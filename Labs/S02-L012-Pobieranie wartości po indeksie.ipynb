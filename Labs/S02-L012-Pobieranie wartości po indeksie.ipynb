{
 "cells": [
  {
   "cell_type": "code",
   "execution_count": 1,
   "id": "afe7aedb",
   "metadata": {},
   "outputs": [],
   "source": [
    "import pandas as pd"
   ]
  },
  {
   "cell_type": "code",
   "execution_count": 98,
   "id": "a650c1cd",
   "metadata": {},
   "outputs": [],
   "source": [
    "company_size = pd.read_csv('../Labs files/course-files/StackOverflowDeveloperSurvey.csv',\n",
    "                    usecols=['CompanySize']).dropna()"
   ]
  },
  {
   "cell_type": "code",
   "execution_count": 99,
   "id": "0071e569",
   "metadata": {},
   "outputs": [
    {
     "data": {
      "text/html": [
       "<div>\n",
       "<style scoped>\n",
       "    .dataframe tbody tr th:only-of-type {\n",
       "        vertical-align: middle;\n",
       "    }\n",
       "\n",
       "    .dataframe tbody tr th {\n",
       "        vertical-align: top;\n",
       "    }\n",
       "\n",
       "    .dataframe thead th {\n",
       "        text-align: right;\n",
       "    }\n",
       "</style>\n",
       "<table border=\"1\" class=\"dataframe\">\n",
       "  <thead>\n",
       "    <tr style=\"text-align: right;\">\n",
       "      <th></th>\n",
       "      <th>CompanySize</th>\n",
       "    </tr>\n",
       "  </thead>\n",
       "  <tbody>\n",
       "    <tr>\n",
       "      <th>1</th>\n",
       "      <td>20 to 99 employees</td>\n",
       "    </tr>\n",
       "    <tr>\n",
       "      <th>2</th>\n",
       "      <td>10,000 or more employees</td>\n",
       "    </tr>\n",
       "    <tr>\n",
       "      <th>3</th>\n",
       "      <td>10,000 or more employees</td>\n",
       "    </tr>\n",
       "    <tr>\n",
       "      <th>4</th>\n",
       "      <td>10 to 19 employees</td>\n",
       "    </tr>\n",
       "    <tr>\n",
       "      <th>6</th>\n",
       "      <td>20 to 99 employees</td>\n",
       "    </tr>\n",
       "  </tbody>\n",
       "</table>\n",
       "</div>"
      ],
      "text/plain": [
       "                CompanySize\n",
       "1        20 to 99 employees\n",
       "2  10,000 or more employees\n",
       "3  10,000 or more employees\n",
       "4        10 to 19 employees\n",
       "6        20 to 99 employees"
      ]
     },
     "execution_count": 99,
     "metadata": {},
     "output_type": "execute_result"
    }
   ],
   "source": [
    "company_size.head()"
   ]
  },
  {
   "cell_type": "code",
   "execution_count": 100,
   "id": "195c564d",
   "metadata": {},
   "outputs": [
    {
     "data": {
      "text/plain": [
       "CompanySize    10 to 19 employees\n",
       "Name: 4, dtype: object"
      ]
     },
     "execution_count": 100,
     "metadata": {},
     "output_type": "execute_result"
    }
   ],
   "source": [
    "company_size.iloc[3]"
   ]
  },
  {
   "cell_type": "code",
   "execution_count": 101,
   "id": "0a0c2ff5",
   "metadata": {},
   "outputs": [
    {
     "data": {
      "text/plain": [
       "CompanySize    10,000 or more employees\n",
       "Name: 3, dtype: object"
      ]
     },
     "execution_count": 101,
     "metadata": {},
     "output_type": "execute_result"
    }
   ],
   "source": [
    "company_size.loc[3]"
   ]
  },
  {
   "cell_type": "code",
   "execution_count": 102,
   "id": "84776dd2",
   "metadata": {},
   "outputs": [
    {
     "data": {
      "text/html": [
       "<div>\n",
       "<style scoped>\n",
       "    .dataframe tbody tr th:only-of-type {\n",
       "        vertical-align: middle;\n",
       "    }\n",
       "\n",
       "    .dataframe tbody tr th {\n",
       "        vertical-align: top;\n",
       "    }\n",
       "\n",
       "    .dataframe thead th {\n",
       "        text-align: right;\n",
       "    }\n",
       "</style>\n",
       "<table border=\"1\" class=\"dataframe\">\n",
       "  <thead>\n",
       "    <tr style=\"text-align: right;\">\n",
       "      <th></th>\n",
       "      <th>CompanySize</th>\n",
       "    </tr>\n",
       "  </thead>\n",
       "  <tbody>\n",
       "    <tr>\n",
       "      <th>1</th>\n",
       "      <td>20 to 99 employees</td>\n",
       "    </tr>\n",
       "    <tr>\n",
       "      <th>2</th>\n",
       "      <td>10,000 or more employees</td>\n",
       "    </tr>\n",
       "    <tr>\n",
       "      <th>3</th>\n",
       "      <td>10,000 or more employees</td>\n",
       "    </tr>\n",
       "    <tr>\n",
       "      <th>4</th>\n",
       "      <td>10 to 19 employees</td>\n",
       "    </tr>\n",
       "    <tr>\n",
       "      <th>6</th>\n",
       "      <td>20 to 99 employees</td>\n",
       "    </tr>\n",
       "    <tr>\n",
       "      <th>7</th>\n",
       "      <td>Fewer than 10 employees</td>\n",
       "    </tr>\n",
       "    <tr>\n",
       "      <th>8</th>\n",
       "      <td>5,000 to 9,999 employees</td>\n",
       "    </tr>\n",
       "    <tr>\n",
       "      <th>10</th>\n",
       "      <td>100 to 499 employees</td>\n",
       "    </tr>\n",
       "    <tr>\n",
       "      <th>11</th>\n",
       "      <td>100 to 499 employees</td>\n",
       "    </tr>\n",
       "    <tr>\n",
       "      <th>13</th>\n",
       "      <td>Fewer than 10 employees</td>\n",
       "    </tr>\n",
       "  </tbody>\n",
       "</table>\n",
       "</div>"
      ],
      "text/plain": [
       "                 CompanySize\n",
       "1         20 to 99 employees\n",
       "2   10,000 or more employees\n",
       "3   10,000 or more employees\n",
       "4         10 to 19 employees\n",
       "6         20 to 99 employees\n",
       "7    Fewer than 10 employees\n",
       "8   5,000 to 9,999 employees\n",
       "10      100 to 499 employees\n",
       "11      100 to 499 employees\n",
       "13   Fewer than 10 employees"
      ]
     },
     "execution_count": 102,
     "metadata": {},
     "output_type": "execute_result"
    }
   ],
   "source": [
    "company_size.iloc[0:10]"
   ]
  },
  {
   "cell_type": "code",
   "execution_count": 103,
   "id": "23bb0234",
   "metadata": {},
   "outputs": [
    {
     "data": {
      "text/html": [
       "<div>\n",
       "<style scoped>\n",
       "    .dataframe tbody tr th:only-of-type {\n",
       "        vertical-align: middle;\n",
       "    }\n",
       "\n",
       "    .dataframe tbody tr th {\n",
       "        vertical-align: top;\n",
       "    }\n",
       "\n",
       "    .dataframe thead th {\n",
       "        text-align: right;\n",
       "    }\n",
       "</style>\n",
       "<table border=\"1\" class=\"dataframe\">\n",
       "  <thead>\n",
       "    <tr style=\"text-align: right;\">\n",
       "      <th></th>\n",
       "      <th>CompanySize</th>\n",
       "    </tr>\n",
       "  </thead>\n",
       "  <tbody>\n",
       "    <tr>\n",
       "      <th>1</th>\n",
       "      <td>20 to 99 employees</td>\n",
       "    </tr>\n",
       "    <tr>\n",
       "      <th>2</th>\n",
       "      <td>10,000 or more employees</td>\n",
       "    </tr>\n",
       "    <tr>\n",
       "      <th>3</th>\n",
       "      <td>10,000 or more employees</td>\n",
       "    </tr>\n",
       "    <tr>\n",
       "      <th>4</th>\n",
       "      <td>10 to 19 employees</td>\n",
       "    </tr>\n",
       "    <tr>\n",
       "      <th>6</th>\n",
       "      <td>20 to 99 employees</td>\n",
       "    </tr>\n",
       "    <tr>\n",
       "      <th>7</th>\n",
       "      <td>Fewer than 10 employees</td>\n",
       "    </tr>\n",
       "    <tr>\n",
       "      <th>8</th>\n",
       "      <td>5,000 to 9,999 employees</td>\n",
       "    </tr>\n",
       "    <tr>\n",
       "      <th>10</th>\n",
       "      <td>100 to 499 employees</td>\n",
       "    </tr>\n",
       "  </tbody>\n",
       "</table>\n",
       "</div>"
      ],
      "text/plain": [
       "                 CompanySize\n",
       "1         20 to 99 employees\n",
       "2   10,000 or more employees\n",
       "3   10,000 or more employees\n",
       "4         10 to 19 employees\n",
       "6         20 to 99 employees\n",
       "7    Fewer than 10 employees\n",
       "8   5,000 to 9,999 employees\n",
       "10      100 to 499 employees"
      ]
     },
     "execution_count": 103,
     "metadata": {},
     "output_type": "execute_result"
    }
   ],
   "source": [
    "company_size.loc[0:10]"
   ]
  },
  {
   "cell_type": "code",
   "execution_count": 104,
   "id": "f2d63cee",
   "metadata": {},
   "outputs": [
    {
     "data": {
      "text/plain": [
       "CompanySize    20 to 99 employees\n",
       "Name: 12345, dtype: object"
      ]
     },
     "execution_count": 104,
     "metadata": {},
     "output_type": "execute_result"
    }
   ],
   "source": [
    "company_size.loc[12345]"
   ]
  },
  {
   "cell_type": "code",
   "execution_count": 105,
   "id": "6b45b626",
   "metadata": {},
   "outputs": [
    {
     "data": {
      "text/html": [
       "<div>\n",
       "<style scoped>\n",
       "    .dataframe tbody tr th:only-of-type {\n",
       "        vertical-align: middle;\n",
       "    }\n",
       "\n",
       "    .dataframe tbody tr th {\n",
       "        vertical-align: top;\n",
       "    }\n",
       "\n",
       "    .dataframe thead th {\n",
       "        text-align: right;\n",
       "    }\n",
       "</style>\n",
       "<table border=\"1\" class=\"dataframe\">\n",
       "  <thead>\n",
       "    <tr style=\"text-align: right;\">\n",
       "      <th></th>\n",
       "      <th>CompanySize</th>\n",
       "    </tr>\n",
       "  </thead>\n",
       "  <tbody>\n",
       "    <tr>\n",
       "      <th>12342</th>\n",
       "      <td>1,000 to 4,999 employees</td>\n",
       "    </tr>\n",
       "    <tr>\n",
       "      <th>12343</th>\n",
       "      <td>10,000 or more employees</td>\n",
       "    </tr>\n",
       "    <tr>\n",
       "      <th>12344</th>\n",
       "      <td>100 to 499 employees</td>\n",
       "    </tr>\n",
       "    <tr>\n",
       "      <th>12345</th>\n",
       "      <td>20 to 99 employees</td>\n",
       "    </tr>\n",
       "    <tr>\n",
       "      <th>12347</th>\n",
       "      <td>Fewer than 10 employees</td>\n",
       "    </tr>\n",
       "    <tr>\n",
       "      <th>12348</th>\n",
       "      <td>20 to 99 employees</td>\n",
       "    </tr>\n",
       "    <tr>\n",
       "      <th>12349</th>\n",
       "      <td>20 to 99 employees</td>\n",
       "    </tr>\n",
       "    <tr>\n",
       "      <th>12350</th>\n",
       "      <td>20 to 99 employees</td>\n",
       "    </tr>\n",
       "  </tbody>\n",
       "</table>\n",
       "</div>"
      ],
      "text/plain": [
       "                    CompanySize\n",
       "12342  1,000 to 4,999 employees\n",
       "12343  10,000 or more employees\n",
       "12344      100 to 499 employees\n",
       "12345        20 to 99 employees\n",
       "12347   Fewer than 10 employees\n",
       "12348        20 to 99 employees\n",
       "12349        20 to 99 employees\n",
       "12350        20 to 99 employees"
      ]
     },
     "execution_count": 105,
     "metadata": {},
     "output_type": "execute_result"
    }
   ],
   "source": [
    "company_size.loc[12341:12350]"
   ]
  },
  {
   "cell_type": "code",
   "execution_count": 106,
   "id": "868a57d5",
   "metadata": {},
   "outputs": [],
   "source": [
    "company_size.sort_values('CompanySize', inplace=True)"
   ]
  },
  {
   "cell_type": "code",
   "execution_count": 107,
   "id": "286261c3",
   "metadata": {},
   "outputs": [
    {
     "data": {
      "text/plain": [
       "CompanySize    10,000 or more employees\n",
       "Name: 3, dtype: object"
      ]
     },
     "execution_count": 107,
     "metadata": {},
     "output_type": "execute_result"
    }
   ],
   "source": [
    "company_size.loc[3]"
   ]
  },
  {
   "cell_type": "code",
   "execution_count": 108,
   "id": "01ffcfca",
   "metadata": {},
   "outputs": [
    {
     "data": {
      "text/plain": [
       "CompanySize    1,000 to 4,999 employees\n",
       "Name: 43102, dtype: object"
      ]
     },
     "execution_count": 108,
     "metadata": {},
     "output_type": "execute_result"
    }
   ],
   "source": [
    "company_size.iloc[3]"
   ]
  },
  {
   "cell_type": "code",
   "execution_count": 109,
   "id": "f33e2b4b",
   "metadata": {},
   "outputs": [],
   "source": [
    "company_size.reset_index(drop=True, inplace=True)"
   ]
  },
  {
   "cell_type": "code",
   "execution_count": 110,
   "id": "f892c830",
   "metadata": {},
   "outputs": [
    {
     "data": {
      "text/html": [
       "<div>\n",
       "<style scoped>\n",
       "    .dataframe tbody tr th:only-of-type {\n",
       "        vertical-align: middle;\n",
       "    }\n",
       "\n",
       "    .dataframe tbody tr th {\n",
       "        vertical-align: top;\n",
       "    }\n",
       "\n",
       "    .dataframe thead th {\n",
       "        text-align: right;\n",
       "    }\n",
       "</style>\n",
       "<table border=\"1\" class=\"dataframe\">\n",
       "  <thead>\n",
       "    <tr style=\"text-align: right;\">\n",
       "      <th></th>\n",
       "      <th>CompanySize</th>\n",
       "    </tr>\n",
       "  </thead>\n",
       "  <tbody>\n",
       "    <tr>\n",
       "      <th>0</th>\n",
       "      <td>1,000 to 4,999 employees</td>\n",
       "    </tr>\n",
       "    <tr>\n",
       "      <th>1</th>\n",
       "      <td>1,000 to 4,999 employees</td>\n",
       "    </tr>\n",
       "    <tr>\n",
       "      <th>2</th>\n",
       "      <td>1,000 to 4,999 employees</td>\n",
       "    </tr>\n",
       "    <tr>\n",
       "      <th>3</th>\n",
       "      <td>1,000 to 4,999 employees</td>\n",
       "    </tr>\n",
       "    <tr>\n",
       "      <th>4</th>\n",
       "      <td>1,000 to 4,999 employees</td>\n",
       "    </tr>\n",
       "  </tbody>\n",
       "</table>\n",
       "</div>"
      ],
      "text/plain": [
       "                CompanySize\n",
       "0  1,000 to 4,999 employees\n",
       "1  1,000 to 4,999 employees\n",
       "2  1,000 to 4,999 employees\n",
       "3  1,000 to 4,999 employees\n",
       "4  1,000 to 4,999 employees"
      ]
     },
     "execution_count": 110,
     "metadata": {},
     "output_type": "execute_result"
    }
   ],
   "source": [
    "company_size.head()"
   ]
  },
  {
   "cell_type": "code",
   "execution_count": 115,
   "id": "0f6b990c",
   "metadata": {},
   "outputs": [
    {
     "data": {
      "text/plain": [
       "CompanySize    1,000 to 4,999 employees\n",
       "Name: 1444, dtype: object"
      ]
     },
     "execution_count": 115,
     "metadata": {},
     "output_type": "execute_result"
    }
   ],
   "source": [
    "company_size.loc[1444]"
   ]
  },
  {
   "cell_type": "code",
   "execution_count": 116,
   "id": "ac2da9d1",
   "metadata": {},
   "outputs": [
    {
     "data": {
      "text/plain": [
       "CompanySize    1,000 to 4,999 employees\n",
       "Name: 1444, dtype: object"
      ]
     },
     "execution_count": 116,
     "metadata": {},
     "output_type": "execute_result"
    }
   ],
   "source": [
    "company_size.iloc[1444]"
   ]
  },
  {
   "cell_type": "code",
   "execution_count": null,
   "id": "715fbe54",
   "metadata": {},
   "outputs": [],
   "source": []
  }
 ],
 "metadata": {
  "kernelspec": {
   "display_name": "Python 3 (ipykernel)",
   "language": "python",
   "name": "python3"
  },
  "language_info": {
   "codemirror_mode": {
    "name": "ipython",
    "version": 3
   },
   "file_extension": ".py",
   "mimetype": "text/x-python",
   "name": "python",
   "nbconvert_exporter": "python",
   "pygments_lexer": "ipython3",
   "version": "3.11.1"
  }
 },
 "nbformat": 4,
 "nbformat_minor": 5
}
