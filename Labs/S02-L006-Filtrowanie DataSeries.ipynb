{
 "cells": [
  {
   "cell_type": "code",
   "execution_count": 1,
   "id": "ea338604",
   "metadata": {},
   "outputs": [],
   "source": [
    "import numpy as np\n",
    "import pandas as pd\n",
    "import matplotlib.pyplot as plt \n",
    "import math"
   ]
  },
  {
   "cell_type": "code",
   "execution_count": 3,
   "id": "9fb47e1e",
   "metadata": {},
   "outputs": [
    {
     "data": {
      "text/plain": [
       "do 6             14\n",
       "7-14            334\n",
       "15-17           312\n",
       "18-24          5823\n",
       "25-39          9491\n",
       "40-59          7486\n",
       "60 i więcej    4343\n",
       "dtype: int64"
      ]
     },
     "execution_count": 3,
     "metadata": {},
     "output_type": "execute_result"
    }
   ],
   "source": [
    "incidents_number = [14 ,334,312,5823,9491,7486,4343]\n",
    "age = ['do 6', '7-14', '15-17', '18-24', '25-39', '40-59', '60 i więcej']\n",
    "incidents = pd.Series(incidents_number, age)\n",
    "incidents"
   ]
  },
  {
   "cell_type": "code",
   "execution_count": 4,
   "id": "48332f0a",
   "metadata": {},
   "outputs": [
    {
     "data": {
      "text/plain": [
       "do 6           False\n",
       "7-14           False\n",
       "15-17          False\n",
       "18-24           True\n",
       "25-39           True\n",
       "40-59           True\n",
       "60 i więcej     True\n",
       "dtype: bool"
      ]
     },
     "execution_count": 4,
     "metadata": {},
     "output_type": "execute_result"
    }
   ],
   "source": [
    "incidents > 1000"
   ]
  },
  {
   "cell_type": "code",
   "execution_count": 5,
   "id": "c600cae4",
   "metadata": {},
   "outputs": [
    {
     "data": {
      "text/plain": [
       "do 6              NaN\n",
       "7-14              NaN\n",
       "15-17             NaN\n",
       "18-24          5823.0\n",
       "25-39          9491.0\n",
       "40-59          7486.0\n",
       "60 i więcej    4343.0\n",
       "dtype: float64"
      ]
     },
     "execution_count": 5,
     "metadata": {},
     "output_type": "execute_result"
    }
   ],
   "source": [
    "incidents.where(incidents>1000)"
   ]
  },
  {
   "cell_type": "code",
   "execution_count": 6,
   "id": "3270b552",
   "metadata": {},
   "outputs": [
    {
     "data": {
      "text/plain": [
       "18-24          5823.0\n",
       "25-39          9491.0\n",
       "40-59          7486.0\n",
       "60 i więcej    4343.0\n",
       "dtype: float64"
      ]
     },
     "execution_count": 6,
     "metadata": {},
     "output_type": "execute_result"
    }
   ],
   "source": [
    "incidents.where(incidents>1000).dropna()"
   ]
  },
  {
   "cell_type": "code",
   "execution_count": 8,
   "id": "929e6348",
   "metadata": {},
   "outputs": [
    {
     "data": {
      "text/plain": [
       "18-24          5823.0\n",
       "25-39          9491.0\n",
       "40-59          7486.0\n",
       "60 i więcej    4343.0\n",
       "dtype: float64"
      ]
     },
     "execution_count": 8,
     "metadata": {},
     "output_type": "execute_result"
    }
   ],
   "source": [
    "incidents_1000 = incidents.where(incidents>1000).dropna()\n",
    "incidents_1000"
   ]
  },
  {
   "cell_type": "code",
   "execution_count": 9,
   "id": "0cffaa37",
   "metadata": {},
   "outputs": [
    {
     "data": {
      "text/plain": [
       "do 6             14\n",
       "7-14            334\n",
       "15-17           312\n",
       "18-24          5823\n",
       "25-39          9491\n",
       "40-59          7486\n",
       "60 i więcej    4343\n",
       "dtype: int64"
      ]
     },
     "execution_count": 9,
     "metadata": {},
     "output_type": "execute_result"
    }
   ],
   "source": [
    "incidents"
   ]
  },
  {
   "cell_type": "code",
   "execution_count": 23,
   "id": "90b45db5",
   "metadata": {},
   "outputs": [
    {
     "data": {
      "text/plain": [
       "18-24    5823\n",
       "25-39    9491\n",
       "40-59    7486\n",
       "dtype: int64"
      ]
     },
     "execution_count": 23,
     "metadata": {},
     "output_type": "execute_result"
    }
   ],
   "source": [
    "incidents.filter(items=['18-24','25-39','40-59'])"
   ]
  },
  {
   "cell_type": "code",
   "execution_count": 25,
   "id": "7ad95aa2",
   "metadata": {},
   "outputs": [
    {
     "data": {
      "text/plain": [
       "22800"
      ]
     },
     "execution_count": 25,
     "metadata": {},
     "output_type": "execute_result"
    }
   ],
   "source": [
    "incidents.filter(items=['18-24','25-39','40-59']).sum()"
   ]
  },
  {
   "cell_type": "code",
   "execution_count": 27,
   "id": "1727a72e",
   "metadata": {},
   "outputs": [
    {
     "data": {
      "text/plain": [
       "do 6      14.0\n",
       "7-14     334.0\n",
       "15-17    312.0\n",
       "dtype: float64"
      ]
     },
     "execution_count": 27,
     "metadata": {},
     "output_type": "execute_result"
    }
   ],
   "source": [
    "incidents.where(incidents <= 1000, inplace=True)\n",
    "incidents.dropna(inplace=True)\n",
    "incidents"
   ]
  },
  {
   "cell_type": "code",
   "execution_count": null,
   "id": "ab5ecdcc",
   "metadata": {},
   "outputs": [],
   "source": []
  }
 ],
 "metadata": {
  "kernelspec": {
   "display_name": "Python 3 (ipykernel)",
   "language": "python",
   "name": "python3"
  },
  "language_info": {
   "codemirror_mode": {
    "name": "ipython",
    "version": 3
   },
   "file_extension": ".py",
   "mimetype": "text/x-python",
   "name": "python",
   "nbconvert_exporter": "python",
   "pygments_lexer": "ipython3",
   "version": "3.11.1"
  }
 },
 "nbformat": 4,
 "nbformat_minor": 5
}
