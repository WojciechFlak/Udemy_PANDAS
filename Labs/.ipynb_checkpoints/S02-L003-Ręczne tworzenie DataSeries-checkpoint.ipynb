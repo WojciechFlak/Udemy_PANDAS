{
 "cells": [
  {
   "cell_type": "code",
   "execution_count": 3,
   "id": "59aad56d",
   "metadata": {},
   "outputs": [],
   "source": [
    "import numpy as np\n",
    "import pandas as pd\n",
    "import matplotlib.pyplot as plt \n",
    "import math"
   ]
  },
  {
   "cell_type": "code",
   "execution_count": 4,
   "id": "113e3a54",
   "metadata": {},
   "outputs": [],
   "source": [
    "weekdays = ['Poniedziałek', 'Wtorek', 'Środa', 'Czwartek', 'Piątek', 'Sobota', 'Niedziela']"
   ]
  },
  {
   "cell_type": "code",
   "execution_count": 6,
   "id": "be700665",
   "metadata": {},
   "outputs": [
    {
     "data": {
      "text/plain": [
       "0    Poniedziałek\n",
       "1          Wtorek\n",
       "2           Środa\n",
       "3        Czwartek\n",
       "4          Piątek\n",
       "5          Sobota\n",
       "6       Niedziela\n",
       "dtype: object"
      ]
     },
     "execution_count": 6,
     "metadata": {},
     "output_type": "execute_result"
    }
   ],
   "source": [
    "weekdays_series = pd.Series(weekdays)\n",
    "weekdays_series"
   ]
  },
  {
   "cell_type": "code",
   "execution_count": 8,
   "id": "2bac3c3a",
   "metadata": {},
   "outputs": [],
   "source": [
    "free_days = [False,False,False,False,False,True,True]"
   ]
  },
  {
   "cell_type": "code",
   "execution_count": 9,
   "id": "825cecea",
   "metadata": {},
   "outputs": [
    {
     "data": {
      "text/plain": [
       "0    False\n",
       "1    False\n",
       "2    False\n",
       "3    False\n",
       "4    False\n",
       "5     True\n",
       "6     True\n",
       "dtype: bool"
      ]
     },
     "execution_count": 9,
     "metadata": {},
     "output_type": "execute_result"
    }
   ],
   "source": [
    "free_days_series = pd.Series(free_days)\n",
    "free_days_series"
   ]
  },
  {
   "cell_type": "code",
   "execution_count": 10,
   "id": "06904a02",
   "metadata": {},
   "outputs": [],
   "source": [
    "holidays = {'New Year': '2018-01-01',\n",
    "            'Epiphany': '2018-01-06',\n",
    "            'Easter': '2018-04-01'}"
   ]
  },
  {
   "cell_type": "code",
   "execution_count": 11,
   "id": "86da0b78",
   "metadata": {},
   "outputs": [
    {
     "data": {
      "text/plain": [
       "New Year    2018-01-01\n",
       "Epiphany    2018-01-06\n",
       "Easter      2018-04-01\n",
       "dtype: object"
      ]
     },
     "execution_count": 11,
     "metadata": {},
     "output_type": "execute_result"
    }
   ],
   "source": [
    "holidays_series = pd.Series(holidays)\n",
    "holidays_series"
   ]
  },
  {
   "cell_type": "code",
   "execution_count": null,
   "id": "fc3389c8",
   "metadata": {},
   "outputs": [],
   "source": []
  }
 ],
 "metadata": {
  "kernelspec": {
   "display_name": "Python 3 (ipykernel)",
   "language": "python",
   "name": "python3"
  },
  "language_info": {
   "codemirror_mode": {
    "name": "ipython",
    "version": 3
   },
   "file_extension": ".py",
   "mimetype": "text/x-python",
   "name": "python",
   "nbconvert_exporter": "python",
   "pygments_lexer": "ipython3",
   "version": "3.11.1"
  }
 },
 "nbformat": 4,
 "nbformat_minor": 5
}
