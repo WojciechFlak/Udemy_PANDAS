{
 "cells": [
  {
   "cell_type": "code",
   "execution_count": 15,
   "id": "2ba39932",
   "metadata": {},
   "outputs": [],
   "source": [
    "import pandas as pd\n",
    "fortune500 = pd.read_csv(\"../Labs files/course-files/Fortune_500_2017.csv\",\n",
    "                        usecols=['Rank','Title'], index_col='Rank').squeeze()"
   ]
  },
  {
   "cell_type": "code",
   "execution_count": 16,
   "id": "b3fb4e11",
   "metadata": {},
   "outputs": [
    {
     "data": {
      "text/plain": [
       "Rank\n",
       "1                Walmart\n",
       "2     Berkshire Hathaway\n",
       "3                  Apple\n",
       "4            Exxon Mobil\n",
       "5               McKesson\n",
       "6     UnitedHealth Group\n",
       "7             CVS Health\n",
       "8         General Motors\n",
       "9                   AT&T\n",
       "10            Ford Motor\n",
       "Name: Title, dtype: object"
      ]
     },
     "execution_count": 16,
     "metadata": {},
     "output_type": "execute_result"
    }
   ],
   "source": [
    "fortune500.head(10)"
   ]
  },
  {
   "cell_type": "code",
   "execution_count": 17,
   "id": "dfc3bce1",
   "metadata": {},
   "outputs": [
    {
     "data": {
      "text/plain": [
       "Rank\n",
       "481           Booz Allen Hamilton Holding\n",
       "482                              Chemours\n",
       "483    Western & Southern Financial Group\n",
       "484                              Celanese\n",
       "485                   Windstream Holdings\n",
       "486                              Seaboard\n",
       "487                             Essendant\n",
       "488                                Apache\n",
       "489                                Airgas\n",
       "490                        Kelly Services\n",
       "491                         Liberty Media\n",
       "492                      Rockwell Collins\n",
       "493             Robert Half International\n",
       "494                             CH2M Hill\n",
       "495                              Big Lots\n",
       "496                         Michaels Cos.\n",
       "497                         Toll Brothers\n",
       "498                                 Yahoo\n",
       "499                         Vistra Energy\n",
       "500                        ABM Industries\n",
       "Name: Title, dtype: object"
      ]
     },
     "execution_count": 17,
     "metadata": {},
     "output_type": "execute_result"
    }
   ],
   "source": [
    "fortune500.iloc[-20:]"
   ]
  },
  {
   "cell_type": "code",
   "execution_count": 19,
   "id": "aa330a33",
   "metadata": {},
   "outputs": [],
   "source": [
    "fortune500 = pd.read_csv(\"../Labs files/course-files/Fortune_500_2017.csv\",\n",
    "                        usecols=['Title','Employees'], index_col='Title').squeeze()"
   ]
  },
  {
   "cell_type": "code",
   "execution_count": 20,
   "id": "9016811a",
   "metadata": {},
   "outputs": [
    {
     "data": {
      "text/plain": [
       "Title\n",
       "Walmart               2300000\n",
       "Berkshire Hathaway     367700\n",
       "Apple                  116000\n",
       "Exxon Mobil             72700\n",
       "McKesson                68000\n",
       "                       ...   \n",
       "Michaels Cos.           31000\n",
       "Toll Brothers            4200\n",
       "Yahoo                    8500\n",
       "Vistra Energy            4431\n",
       "ABM Industries         110000\n",
       "Name: Employees, Length: 500, dtype: int64"
      ]
     },
     "execution_count": 20,
     "metadata": {},
     "output_type": "execute_result"
    }
   ],
   "source": [
    "fortune500"
   ]
  },
  {
   "cell_type": "code",
   "execution_count": 25,
   "id": "5ed0bbe0",
   "metadata": {},
   "outputs": [],
   "source": [
    "emp_in_comp = ['IBM', 'Alphabet','Facebook','Apple']"
   ]
  },
  {
   "cell_type": "code",
   "execution_count": 26,
   "id": "8e1fe3a2",
   "metadata": {},
   "outputs": [
    {
     "data": {
      "text/plain": [
       "Title\n",
       "IBM         414400\n",
       "Alphabet     72053\n",
       "Facebook     17048\n",
       "Apple       116000\n",
       "Name: Employees, dtype: int64"
      ]
     },
     "execution_count": 26,
     "metadata": {},
     "output_type": "execute_result"
    }
   ],
   "source": [
    "fortune500.reindex(emp_in_comp)"
   ]
  },
  {
   "cell_type": "code",
   "execution_count": 27,
   "id": "ad8f0fe1",
   "metadata": {},
   "outputs": [
    {
     "data": {
      "text/plain": [
       "Title\n",
       "IBM                          414400\n",
       "State Farm Insurance Cos.     68234\n",
       "Phillips 66                   14800\n",
       "Johnson & Johnson            126400\n",
       "Procter & Gamble             105000\n",
       "Valero Energy                  9996\n",
       "Target                       323000\n",
       "Freddie Mac                    5982\n",
       "Lowe’s                       240000\n",
       "Dell Technologies            138000\n",
       "MetLife                       58000\n",
       "Aetna                         49500\n",
       "PepsiCo                      264000\n",
       "Archer Daniels Midland        31800\n",
       "UPS                          335520\n",
       "Intel                        106000\n",
       "Name: Employees, dtype: int64"
      ]
     },
     "execution_count": 27,
     "metadata": {},
     "output_type": "execute_result"
    }
   ],
   "source": [
    "fortune500.loc['IBM':'Intel']"
   ]
  }
 ],
 "metadata": {
  "kernelspec": {
   "display_name": "Python 3 (ipykernel)",
   "language": "python",
   "name": "python3"
  },
  "language_info": {
   "codemirror_mode": {
    "name": "ipython",
    "version": 3
   },
   "file_extension": ".py",
   "mimetype": "text/x-python",
   "name": "python",
   "nbconvert_exporter": "python",
   "pygments_lexer": "ipython3",
   "version": "3.11.1"
  }
 },
 "nbformat": 4,
 "nbformat_minor": 5
}
