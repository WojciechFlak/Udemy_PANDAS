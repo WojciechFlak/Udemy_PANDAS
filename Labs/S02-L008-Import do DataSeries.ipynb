{
 "cells": [
  {
   "cell_type": "code",
   "execution_count": 1,
   "id": "4d541ae6",
   "metadata": {},
   "outputs": [],
   "source": [
    "import numpy as np\n",
    "import pandas as pd\n",
    "import matplotlib.pyplot as plt \n",
    "import math"
   ]
  },
  {
   "cell_type": "code",
   "execution_count": 33,
   "id": "9c8b5703",
   "metadata": {},
   "outputs": [],
   "source": [
    "education = pd.read_csv('../Labs files/course-files/StackOverflowDeveloperSurvey.csv',\n",
    "                        usecols=['FormalEducation'])"
   ]
  },
  {
   "cell_type": "code",
   "execution_count": 34,
   "id": "867e819f",
   "metadata": {},
   "outputs": [
    {
     "data": {
      "text/html": [
       "<div>\n",
       "<style scoped>\n",
       "    .dataframe tbody tr th:only-of-type {\n",
       "        vertical-align: middle;\n",
       "    }\n",
       "\n",
       "    .dataframe tbody tr th {\n",
       "        vertical-align: top;\n",
       "    }\n",
       "\n",
       "    .dataframe thead th {\n",
       "        text-align: right;\n",
       "    }\n",
       "</style>\n",
       "<table border=\"1\" class=\"dataframe\">\n",
       "  <thead>\n",
       "    <tr style=\"text-align: right;\">\n",
       "      <th></th>\n",
       "      <th>FormalEducation</th>\n",
       "    </tr>\n",
       "  </thead>\n",
       "  <tbody>\n",
       "    <tr>\n",
       "      <th>0</th>\n",
       "      <td>Secondary school</td>\n",
       "    </tr>\n",
       "    <tr>\n",
       "      <th>1</th>\n",
       "      <td>Some college/university study without earning ...</td>\n",
       "    </tr>\n",
       "    <tr>\n",
       "      <th>2</th>\n",
       "      <td>Bachelor's degree</td>\n",
       "    </tr>\n",
       "    <tr>\n",
       "      <th>3</th>\n",
       "      <td>Doctoral degree</td>\n",
       "    </tr>\n",
       "    <tr>\n",
       "      <th>4</th>\n",
       "      <td>Master's degree</td>\n",
       "    </tr>\n",
       "    <tr>\n",
       "      <th>...</th>\n",
       "      <td>...</td>\n",
       "    </tr>\n",
       "    <tr>\n",
       "      <th>51387</th>\n",
       "      <td>Bachelor's degree</td>\n",
       "    </tr>\n",
       "    <tr>\n",
       "      <th>51388</th>\n",
       "      <td>Master's degree</td>\n",
       "    </tr>\n",
       "    <tr>\n",
       "      <th>51389</th>\n",
       "      <td>Some college/university study without earning ...</td>\n",
       "    </tr>\n",
       "    <tr>\n",
       "      <th>51390</th>\n",
       "      <td>Bachelor's degree</td>\n",
       "    </tr>\n",
       "    <tr>\n",
       "      <th>51391</th>\n",
       "      <td>Bachelor's degree</td>\n",
       "    </tr>\n",
       "  </tbody>\n",
       "</table>\n",
       "<p>51392 rows × 1 columns</p>\n",
       "</div>"
      ],
      "text/plain": [
       "                                         FormalEducation\n",
       "0                                       Secondary school\n",
       "1      Some college/university study without earning ...\n",
       "2                                      Bachelor's degree\n",
       "3                                        Doctoral degree\n",
       "4                                        Master's degree\n",
       "...                                                  ...\n",
       "51387                                  Bachelor's degree\n",
       "51388                                    Master's degree\n",
       "51389  Some college/university study without earning ...\n",
       "51390                                  Bachelor's degree\n",
       "51391                                  Bachelor's degree\n",
       "\n",
       "[51392 rows x 1 columns]"
      ]
     },
     "execution_count": 34,
     "metadata": {},
     "output_type": "execute_result"
    }
   ],
   "source": [
    "education"
   ]
  },
  {
   "cell_type": "code",
   "execution_count": 35,
   "id": "9ba55cef",
   "metadata": {},
   "outputs": [
    {
     "data": {
      "text/plain": [
       "pandas.core.frame.DataFrame"
      ]
     },
     "execution_count": 35,
     "metadata": {},
     "output_type": "execute_result"
    }
   ],
   "source": [
    "type(education)"
   ]
  },
  {
   "cell_type": "code",
   "execution_count": 36,
   "id": "861ed2cc",
   "metadata": {},
   "outputs": [
    {
     "data": {
      "text/html": [
       "<div>\n",
       "<style scoped>\n",
       "    .dataframe tbody tr th:only-of-type {\n",
       "        vertical-align: middle;\n",
       "    }\n",
       "\n",
       "    .dataframe tbody tr th {\n",
       "        vertical-align: top;\n",
       "    }\n",
       "\n",
       "    .dataframe thead th {\n",
       "        text-align: right;\n",
       "    }\n",
       "</style>\n",
       "<table border=\"1\" class=\"dataframe\">\n",
       "  <thead>\n",
       "    <tr style=\"text-align: right;\">\n",
       "      <th></th>\n",
       "      <th>FormalEducation</th>\n",
       "    </tr>\n",
       "  </thead>\n",
       "  <tbody>\n",
       "    <tr>\n",
       "      <th>0</th>\n",
       "      <td>Secondary school</td>\n",
       "    </tr>\n",
       "    <tr>\n",
       "      <th>1</th>\n",
       "      <td>Some college/university study without earning ...</td>\n",
       "    </tr>\n",
       "    <tr>\n",
       "      <th>2</th>\n",
       "      <td>Bachelor's degree</td>\n",
       "    </tr>\n",
       "    <tr>\n",
       "      <th>3</th>\n",
       "      <td>Doctoral degree</td>\n",
       "    </tr>\n",
       "    <tr>\n",
       "      <th>4</th>\n",
       "      <td>Master's degree</td>\n",
       "    </tr>\n",
       "  </tbody>\n",
       "</table>\n",
       "</div>"
      ],
      "text/plain": [
       "                                     FormalEducation\n",
       "0                                   Secondary school\n",
       "1  Some college/university study without earning ...\n",
       "2                                  Bachelor's degree\n",
       "3                                    Doctoral degree\n",
       "4                                    Master's degree"
      ]
     },
     "execution_count": 36,
     "metadata": {},
     "output_type": "execute_result"
    }
   ],
   "source": [
    "education.head()"
   ]
  },
  {
   "cell_type": "code",
   "execution_count": 37,
   "id": "29c021f0",
   "metadata": {},
   "outputs": [],
   "source": [
    "series_education = pd.read_csv('../Labs files/course-files/StackOverflowDeveloperSurvey.csv',\n",
    "                        usecols=['FormalEducation']).squeeze()"
   ]
  },
  {
   "cell_type": "code",
   "execution_count": 39,
   "id": "0ca51623",
   "metadata": {},
   "outputs": [
    {
     "data": {
      "text/plain": [
       "pandas.core.series.Series"
      ]
     },
     "execution_count": 39,
     "metadata": {},
     "output_type": "execute_result"
    }
   ],
   "source": [
    "type(series_education)"
   ]
  },
  {
   "cell_type": "code",
   "execution_count": 40,
   "id": "ae535255",
   "metadata": {},
   "outputs": [
    {
     "data": {
      "text/plain": [
       "51382                                      Master's degree\n",
       "51383               I never completed any formal education\n",
       "51384                                    Bachelor's degree\n",
       "51385                                      Master's degree\n",
       "51386    Some college/university study without earning ...\n",
       "51387                                    Bachelor's degree\n",
       "51388                                      Master's degree\n",
       "51389    Some college/university study without earning ...\n",
       "51390                                    Bachelor's degree\n",
       "51391                                    Bachelor's degree\n",
       "Name: FormalEducation, dtype: object"
      ]
     },
     "execution_count": 40,
     "metadata": {},
     "output_type": "execute_result"
    }
   ],
   "source": [
    "series_education.tail(10)"
   ]
  },
  {
   "cell_type": "code",
   "execution_count": 43,
   "id": "f320bc85",
   "metadata": {},
   "outputs": [],
   "source": [
    "all_info = pd.read_csv('../Labs files/course-files/StackOverflowDeveloperSurvey.csv')"
   ]
  },
  {
   "cell_type": "code",
   "execution_count": 45,
   "id": "89c5048b",
   "metadata": {},
   "outputs": [
    {
     "data": {
      "text/html": [
       "<div>\n",
       "<style scoped>\n",
       "    .dataframe tbody tr th:only-of-type {\n",
       "        vertical-align: middle;\n",
       "    }\n",
       "\n",
       "    .dataframe tbody tr th {\n",
       "        vertical-align: top;\n",
       "    }\n",
       "\n",
       "    .dataframe thead th {\n",
       "        text-align: right;\n",
       "    }\n",
       "</style>\n",
       "<table border=\"1\" class=\"dataframe\">\n",
       "  <thead>\n",
       "    <tr style=\"text-align: right;\">\n",
       "      <th></th>\n",
       "      <th>Respondent</th>\n",
       "      <th>Professional</th>\n",
       "      <th>ProgramHobby</th>\n",
       "      <th>Country</th>\n",
       "      <th>University</th>\n",
       "      <th>EmploymentStatus</th>\n",
       "      <th>FormalEducation</th>\n",
       "      <th>MajorUndergrad</th>\n",
       "      <th>HomeRemote</th>\n",
       "      <th>CompanySize</th>\n",
       "      <th>...</th>\n",
       "      <th>StackOverflowMakeMoney</th>\n",
       "      <th>Gender</th>\n",
       "      <th>HighestEducationParents</th>\n",
       "      <th>Race</th>\n",
       "      <th>SurveyLong</th>\n",
       "      <th>QuestionsInteresting</th>\n",
       "      <th>QuestionsConfusing</th>\n",
       "      <th>InterestedAnswers</th>\n",
       "      <th>Salary</th>\n",
       "      <th>ExpectedSalary</th>\n",
       "    </tr>\n",
       "  </thead>\n",
       "  <tbody>\n",
       "    <tr>\n",
       "      <th>0</th>\n",
       "      <td>1</td>\n",
       "      <td>Student</td>\n",
       "      <td>Yes, both</td>\n",
       "      <td>United States</td>\n",
       "      <td>No</td>\n",
       "      <td>Not employed, and not looking for work</td>\n",
       "      <td>Secondary school</td>\n",
       "      <td>NaN</td>\n",
       "      <td>NaN</td>\n",
       "      <td>NaN</td>\n",
       "      <td>...</td>\n",
       "      <td>Strongly disagree</td>\n",
       "      <td>Male</td>\n",
       "      <td>High school</td>\n",
       "      <td>White or of European descent</td>\n",
       "      <td>Strongly disagree</td>\n",
       "      <td>Strongly agree</td>\n",
       "      <td>Disagree</td>\n",
       "      <td>Strongly agree</td>\n",
       "      <td>NaN</td>\n",
       "      <td>NaN</td>\n",
       "    </tr>\n",
       "    <tr>\n",
       "      <th>1</th>\n",
       "      <td>2</td>\n",
       "      <td>Student</td>\n",
       "      <td>Yes, both</td>\n",
       "      <td>United Kingdom</td>\n",
       "      <td>Yes, full-time</td>\n",
       "      <td>Employed part-time</td>\n",
       "      <td>Some college/university study without earning ...</td>\n",
       "      <td>Computer science or software engineering</td>\n",
       "      <td>More than half, but not all, the time</td>\n",
       "      <td>20 to 99 employees</td>\n",
       "      <td>...</td>\n",
       "      <td>Strongly disagree</td>\n",
       "      <td>Male</td>\n",
       "      <td>A master's degree</td>\n",
       "      <td>White or of European descent</td>\n",
       "      <td>Somewhat agree</td>\n",
       "      <td>Somewhat agree</td>\n",
       "      <td>Disagree</td>\n",
       "      <td>Strongly agree</td>\n",
       "      <td>NaN</td>\n",
       "      <td>37500.0</td>\n",
       "    </tr>\n",
       "    <tr>\n",
       "      <th>2</th>\n",
       "      <td>3</td>\n",
       "      <td>Professional developer</td>\n",
       "      <td>Yes, both</td>\n",
       "      <td>United Kingdom</td>\n",
       "      <td>No</td>\n",
       "      <td>Employed full-time</td>\n",
       "      <td>Bachelor's degree</td>\n",
       "      <td>Computer science or software engineering</td>\n",
       "      <td>Less than half the time, but at least one day ...</td>\n",
       "      <td>10,000 or more employees</td>\n",
       "      <td>...</td>\n",
       "      <td>Disagree</td>\n",
       "      <td>Male</td>\n",
       "      <td>A professional degree</td>\n",
       "      <td>White or of European descent</td>\n",
       "      <td>Somewhat agree</td>\n",
       "      <td>Agree</td>\n",
       "      <td>Disagree</td>\n",
       "      <td>Agree</td>\n",
       "      <td>113750.0</td>\n",
       "      <td>NaN</td>\n",
       "    </tr>\n",
       "    <tr>\n",
       "      <th>3</th>\n",
       "      <td>4</td>\n",
       "      <td>Professional non-developer who sometimes write...</td>\n",
       "      <td>Yes, both</td>\n",
       "      <td>United States</td>\n",
       "      <td>No</td>\n",
       "      <td>Employed full-time</td>\n",
       "      <td>Doctoral degree</td>\n",
       "      <td>A non-computer-focused engineering discipline</td>\n",
       "      <td>Less than half the time, but at least one day ...</td>\n",
       "      <td>10,000 or more employees</td>\n",
       "      <td>...</td>\n",
       "      <td>Disagree</td>\n",
       "      <td>Male</td>\n",
       "      <td>A doctoral degree</td>\n",
       "      <td>White or of European descent</td>\n",
       "      <td>Agree</td>\n",
       "      <td>Agree</td>\n",
       "      <td>Somewhat agree</td>\n",
       "      <td>Strongly agree</td>\n",
       "      <td>NaN</td>\n",
       "      <td>NaN</td>\n",
       "    </tr>\n",
       "    <tr>\n",
       "      <th>4</th>\n",
       "      <td>5</td>\n",
       "      <td>Professional developer</td>\n",
       "      <td>Yes, I program as a hobby</td>\n",
       "      <td>Switzerland</td>\n",
       "      <td>No</td>\n",
       "      <td>Employed full-time</td>\n",
       "      <td>Master's degree</td>\n",
       "      <td>Computer science or software engineering</td>\n",
       "      <td>Never</td>\n",
       "      <td>10 to 19 employees</td>\n",
       "      <td>...</td>\n",
       "      <td>NaN</td>\n",
       "      <td>NaN</td>\n",
       "      <td>NaN</td>\n",
       "      <td>NaN</td>\n",
       "      <td>NaN</td>\n",
       "      <td>NaN</td>\n",
       "      <td>NaN</td>\n",
       "      <td>NaN</td>\n",
       "      <td>NaN</td>\n",
       "      <td>NaN</td>\n",
       "    </tr>\n",
       "  </tbody>\n",
       "</table>\n",
       "<p>5 rows × 154 columns</p>\n",
       "</div>"
      ],
      "text/plain": [
       "   Respondent                                       Professional  \\\n",
       "0           1                                            Student   \n",
       "1           2                                            Student   \n",
       "2           3                             Professional developer   \n",
       "3           4  Professional non-developer who sometimes write...   \n",
       "4           5                             Professional developer   \n",
       "\n",
       "                ProgramHobby         Country      University  \\\n",
       "0                  Yes, both   United States              No   \n",
       "1                  Yes, both  United Kingdom  Yes, full-time   \n",
       "2                  Yes, both  United Kingdom              No   \n",
       "3                  Yes, both   United States              No   \n",
       "4  Yes, I program as a hobby     Switzerland              No   \n",
       "\n",
       "                         EmploymentStatus  \\\n",
       "0  Not employed, and not looking for work   \n",
       "1                      Employed part-time   \n",
       "2                      Employed full-time   \n",
       "3                      Employed full-time   \n",
       "4                      Employed full-time   \n",
       "\n",
       "                                     FormalEducation  \\\n",
       "0                                   Secondary school   \n",
       "1  Some college/university study without earning ...   \n",
       "2                                  Bachelor's degree   \n",
       "3                                    Doctoral degree   \n",
       "4                                    Master's degree   \n",
       "\n",
       "                                  MajorUndergrad  \\\n",
       "0                                            NaN   \n",
       "1       Computer science or software engineering   \n",
       "2       Computer science or software engineering   \n",
       "3  A non-computer-focused engineering discipline   \n",
       "4       Computer science or software engineering   \n",
       "\n",
       "                                          HomeRemote  \\\n",
       "0                                                NaN   \n",
       "1              More than half, but not all, the time   \n",
       "2  Less than half the time, but at least one day ...   \n",
       "3  Less than half the time, but at least one day ...   \n",
       "4                                              Never   \n",
       "\n",
       "                CompanySize  ... StackOverflowMakeMoney Gender  \\\n",
       "0                       NaN  ...      Strongly disagree   Male   \n",
       "1        20 to 99 employees  ...      Strongly disagree   Male   \n",
       "2  10,000 or more employees  ...               Disagree   Male   \n",
       "3  10,000 or more employees  ...               Disagree   Male   \n",
       "4        10 to 19 employees  ...                    NaN    NaN   \n",
       "\n",
       "  HighestEducationParents                          Race         SurveyLong  \\\n",
       "0             High school  White or of European descent  Strongly disagree   \n",
       "1       A master's degree  White or of European descent     Somewhat agree   \n",
       "2   A professional degree  White or of European descent     Somewhat agree   \n",
       "3       A doctoral degree  White or of European descent              Agree   \n",
       "4                     NaN                           NaN                NaN   \n",
       "\n",
       "  QuestionsInteresting QuestionsConfusing InterestedAnswers    Salary  \\\n",
       "0       Strongly agree           Disagree    Strongly agree       NaN   \n",
       "1       Somewhat agree           Disagree    Strongly agree       NaN   \n",
       "2                Agree           Disagree             Agree  113750.0   \n",
       "3                Agree     Somewhat agree    Strongly agree       NaN   \n",
       "4                  NaN                NaN               NaN       NaN   \n",
       "\n",
       "   ExpectedSalary  \n",
       "0             NaN  \n",
       "1         37500.0  \n",
       "2             NaN  \n",
       "3             NaN  \n",
       "4             NaN  \n",
       "\n",
       "[5 rows x 154 columns]"
      ]
     },
     "execution_count": 45,
     "metadata": {},
     "output_type": "execute_result"
    }
   ],
   "source": [
    "all_info.head()"
   ]
  },
  {
   "cell_type": "code",
   "execution_count": 46,
   "id": "c07625a8",
   "metadata": {},
   "outputs": [],
   "source": [
    "series_country = all_info['Country']"
   ]
  },
  {
   "cell_type": "code",
   "execution_count": 47,
   "id": "1aa0daea",
   "metadata": {},
   "outputs": [
    {
     "data": {
      "text/plain": [
       "pandas.core.series.Series"
      ]
     },
     "execution_count": 47,
     "metadata": {},
     "output_type": "execute_result"
    }
   ],
   "source": [
    "type(series_country)"
   ]
  },
  {
   "cell_type": "code",
   "execution_count": 55,
   "id": "44b08faf",
   "metadata": {},
   "outputs": [],
   "source": [
    "filter_only_USA = series_country == 'United States'"
   ]
  },
  {
   "cell_type": "code",
   "execution_count": 68,
   "id": "897e103a",
   "metadata": {},
   "outputs": [],
   "source": [
    "only_USA=series_country.where(filter_only_USA).dropna()"
   ]
  },
  {
   "cell_type": "code",
   "execution_count": 69,
   "id": "0ccec426",
   "metadata": {},
   "outputs": [
    {
     "data": {
      "text/plain": [
       "0        United States\n",
       "3        United States\n",
       "6        United States\n",
       "10       United States\n",
       "15       United States\n",
       "             ...      \n",
       "51380    United States\n",
       "51381    United States\n",
       "51384    United States\n",
       "51387    United States\n",
       "51390    United States\n",
       "Name: Country, Length: 11455, dtype: object"
      ]
     },
     "execution_count": 69,
     "metadata": {},
     "output_type": "execute_result"
    }
   ],
   "source": [
    "only_USA"
   ]
  },
  {
   "cell_type": "code",
   "execution_count": 72,
   "id": "384b36b3",
   "metadata": {},
   "outputs": [
    {
     "data": {
      "text/plain": [
       "22.289461394769614"
      ]
     },
     "execution_count": 72,
     "metadata": {},
     "output_type": "execute_result"
    }
   ],
   "source": [
    "only_USA.size/series_country.size*100"
   ]
  },
  {
   "cell_type": "code",
   "execution_count": 73,
   "id": "7e7dfa16",
   "metadata": {},
   "outputs": [],
   "source": [
    "only_USA=series_country.where(filter_only_USA)"
   ]
  },
  {
   "cell_type": "code",
   "execution_count": 80,
   "id": "6157beb3",
   "metadata": {},
   "outputs": [
    {
     "data": {
      "text/plain": [
       "0              Secondary school\n",
       "3               Doctoral degree\n",
       "6               Master's degree\n",
       "10            Bachelor's degree\n",
       "15    Primary/elementary school\n",
       "17            Bachelor's degree\n",
       "18            Bachelor's degree\n",
       "25              Master's degree\n",
       "27            Bachelor's degree\n",
       "29            Bachelor's degree\n",
       "Name: FormalEducation, dtype: object"
      ]
     },
     "execution_count": 80,
     "metadata": {},
     "output_type": "execute_result"
    }
   ],
   "source": [
    "series_education.where(filter_only_USA).dropna().head(10)"
   ]
  },
  {
   "cell_type": "code",
   "execution_count": null,
   "id": "d57ffeae",
   "metadata": {},
   "outputs": [],
   "source": []
  }
 ],
 "metadata": {
  "kernelspec": {
   "display_name": "Python 3 (ipykernel)",
   "language": "python",
   "name": "python3"
  },
  "language_info": {
   "codemirror_mode": {
    "name": "ipython",
    "version": 3
   },
   "file_extension": ".py",
   "mimetype": "text/x-python",
   "name": "python",
   "nbconvert_exporter": "python",
   "pygments_lexer": "ipython3",
   "version": "3.11.1"
  }
 },
 "nbformat": 4,
 "nbformat_minor": 5
}
