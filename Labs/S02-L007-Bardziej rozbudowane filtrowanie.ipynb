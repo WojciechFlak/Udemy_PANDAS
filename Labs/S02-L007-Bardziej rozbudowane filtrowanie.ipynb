{
 "cells": [
  {
   "cell_type": "code",
   "execution_count": 8,
   "id": "0945d38e",
   "metadata": {},
   "outputs": [],
   "source": [
    "import numpy as np\n",
    "import pandas as pd\n",
    "import matplotlib.pyplot as plt \n",
    "import math"
   ]
  },
  {
   "cell_type": "code",
   "execution_count": 16,
   "id": "e036661c",
   "metadata": {},
   "outputs": [],
   "source": [
    "countries = ['Albania','Austria','Belarus', 'Belgium','Bulgaria','Croatia','Cyprus','Czech Republic',\n",
    "             'Denmark','Estonia', 'Finland','France','Germany','Greece','Hungary','Iceland','Ireland',\n",
    "             'Italy', 'Latvia','Lithuania','Luxembourg','Macedonia','Malta','Montenegro','Netherlands',\n",
    "             'Norway','Poland','Portugal','Romania','Russia','Serbia','Slovenia','Spain', 'Sweden',\n",
    "             'Switzerland','United Kingdom','Turkey','Ukraine']\n",
    "energy2010 = [1947,8347,3564,8369,4560,3814,4623,6348,6328,6506,16483,7736,7264,5318,3876, 51440,\n",
    "               5911,5494,3230,3471,16830,3521,4171,5420,7010,24891,3797,4959,2551, 6410,4359,6521,\n",
    "               5707,14934,8175,2498,3550,5701]\n",
    "energy2012 = [2118,8507,3698,7987,4762,3819,4057,6305,6039,6689,15687,7344,7270,5511,3919, 53203,\n",
    "               5665,5398,3588,3608,14696,3626,4761,5416,6871,23658,3899,4736,2604, 6617,4387,6778,\n",
    "               5573,14290,7886,2794,3641,5452]"
   ]
  },
  {
   "cell_type": "code",
   "execution_count": 17,
   "id": "071932e1",
   "metadata": {},
   "outputs": [],
   "source": [
    "countries_series = pd.Series(countries)\n",
    "energy2010_series = pd.Series(energy2010)\n",
    "energy2012_series = pd.Series(energy2012)"
   ]
  },
  {
   "cell_type": "code",
   "execution_count": 20,
   "id": "ce160fbe",
   "metadata": {},
   "outputs": [
    {
     "data": {
      "text/plain": [
       "7779.8421052631575"
      ]
     },
     "execution_count": 20,
     "metadata": {},
     "output_type": "execute_result"
    }
   ],
   "source": [
    "mean_2010 = energy2010_series.mean()\n",
    "mean_2010"
   ]
  },
  {
   "cell_type": "code",
   "execution_count": 21,
   "id": "649fb1f8",
   "metadata": {},
   "outputs": [
    {
     "data": {
      "text/plain": [
       "7706.815789473684"
      ]
     },
     "execution_count": 21,
     "metadata": {},
     "output_type": "execute_result"
    }
   ],
   "source": [
    "mean_2012 = energy2012_series.mean()\n",
    "mean_2012"
   ]
  },
  {
   "cell_type": "code",
   "execution_count": 38,
   "id": "b442fb9f",
   "metadata": {},
   "outputs": [
    {
     "data": {
      "text/plain": [
       "0         NaN\n",
       "1      8347.0\n",
       "2         NaN\n",
       "3      8369.0\n",
       "4         NaN\n",
       "5         NaN\n",
       "6         NaN\n",
       "7         NaN\n",
       "8         NaN\n",
       "9         NaN\n",
       "10    16483.0\n",
       "11        NaN\n",
       "12        NaN\n",
       "13        NaN\n",
       "14        NaN\n",
       "15    51440.0\n",
       "16        NaN\n",
       "17        NaN\n",
       "18        NaN\n",
       "19        NaN\n",
       "20    16830.0\n",
       "21        NaN\n",
       "22        NaN\n",
       "23        NaN\n",
       "24        NaN\n",
       "25    24891.0\n",
       "26        NaN\n",
       "27        NaN\n",
       "28        NaN\n",
       "29        NaN\n",
       "30        NaN\n",
       "31        NaN\n",
       "32        NaN\n",
       "33    14934.0\n",
       "34     8175.0\n",
       "35        NaN\n",
       "36        NaN\n",
       "37        NaN\n",
       "dtype: float64"
      ]
     },
     "execution_count": 38,
     "metadata": {},
     "output_type": "execute_result"
    }
   ],
   "source": [
    "a_m_2010 = energy2010_series>mean_2010\n",
    "energy2010_series.where(a_m_2010)"
   ]
  },
  {
   "cell_type": "code",
   "execution_count": 42,
   "id": "b69d8809",
   "metadata": {},
   "outputs": [
    {
     "data": {
      "text/plain": [
       "0         NaN\n",
       "1      8507.0\n",
       "2         NaN\n",
       "3      7987.0\n",
       "4         NaN\n",
       "5         NaN\n",
       "6         NaN\n",
       "7         NaN\n",
       "8         NaN\n",
       "9         NaN\n",
       "10    15687.0\n",
       "11        NaN\n",
       "12        NaN\n",
       "13        NaN\n",
       "14        NaN\n",
       "15    53203.0\n",
       "16        NaN\n",
       "17        NaN\n",
       "18        NaN\n",
       "19        NaN\n",
       "20    14696.0\n",
       "21        NaN\n",
       "22        NaN\n",
       "23        NaN\n",
       "24        NaN\n",
       "25    23658.0\n",
       "26        NaN\n",
       "27        NaN\n",
       "28        NaN\n",
       "29        NaN\n",
       "30        NaN\n",
       "31        NaN\n",
       "32        NaN\n",
       "33    14290.0\n",
       "34     7886.0\n",
       "35        NaN\n",
       "36        NaN\n",
       "37        NaN\n",
       "dtype: float64"
      ]
     },
     "execution_count": 42,
     "metadata": {},
     "output_type": "execute_result"
    }
   ],
   "source": [
    "energy2012_series.where(a_m_2012)"
   ]
  },
  {
   "cell_type": "code",
   "execution_count": 40,
   "id": "632a5a37",
   "metadata": {},
   "outputs": [
    {
     "data": {
      "text/plain": [
       "0             NaN\n",
       "1         Austria\n",
       "2             NaN\n",
       "3         Belgium\n",
       "4             NaN\n",
       "5             NaN\n",
       "6             NaN\n",
       "7             NaN\n",
       "8             NaN\n",
       "9             NaN\n",
       "10        Finland\n",
       "11            NaN\n",
       "12            NaN\n",
       "13            NaN\n",
       "14            NaN\n",
       "15        Iceland\n",
       "16            NaN\n",
       "17            NaN\n",
       "18            NaN\n",
       "19            NaN\n",
       "20     Luxembourg\n",
       "21            NaN\n",
       "22            NaN\n",
       "23            NaN\n",
       "24            NaN\n",
       "25         Norway\n",
       "26            NaN\n",
       "27            NaN\n",
       "28            NaN\n",
       "29            NaN\n",
       "30            NaN\n",
       "31            NaN\n",
       "32            NaN\n",
       "33         Sweden\n",
       "34    Switzerland\n",
       "35            NaN\n",
       "36            NaN\n",
       "37            NaN\n",
       "dtype: object"
      ]
     },
     "execution_count": 40,
     "metadata": {},
     "output_type": "execute_result"
    }
   ],
   "source": [
    "a_m_2010 = energy2010_series>mean_2010\n",
    "countries_series.where(a_m_2010)"
   ]
  },
  {
   "cell_type": "code",
   "execution_count": 41,
   "id": "01bb34eb",
   "metadata": {},
   "outputs": [
    {
     "data": {
      "text/plain": [
       "0             NaN\n",
       "1         Austria\n",
       "2             NaN\n",
       "3         Belgium\n",
       "4             NaN\n",
       "5             NaN\n",
       "6             NaN\n",
       "7             NaN\n",
       "8             NaN\n",
       "9             NaN\n",
       "10        Finland\n",
       "11            NaN\n",
       "12            NaN\n",
       "13            NaN\n",
       "14            NaN\n",
       "15        Iceland\n",
       "16            NaN\n",
       "17            NaN\n",
       "18            NaN\n",
       "19            NaN\n",
       "20     Luxembourg\n",
       "21            NaN\n",
       "22            NaN\n",
       "23            NaN\n",
       "24            NaN\n",
       "25         Norway\n",
       "26            NaN\n",
       "27            NaN\n",
       "28            NaN\n",
       "29            NaN\n",
       "30            NaN\n",
       "31            NaN\n",
       "32            NaN\n",
       "33         Sweden\n",
       "34    Switzerland\n",
       "35            NaN\n",
       "36            NaN\n",
       "37            NaN\n",
       "dtype: object"
      ]
     },
     "execution_count": 41,
     "metadata": {},
     "output_type": "execute_result"
    }
   ],
   "source": [
    "countries_series.where(a_m_2012)"
   ]
  },
  {
   "cell_type": "code",
   "execution_count": 43,
   "id": "e117c09c",
   "metadata": {},
   "outputs": [
    {
     "data": {
      "text/plain": [
       "0            Albania\n",
       "1                NaN\n",
       "2            Belarus\n",
       "3                NaN\n",
       "4           Bulgaria\n",
       "5            Croatia\n",
       "6             Cyprus\n",
       "7     Czech Republic\n",
       "8            Denmark\n",
       "9            Estonia\n",
       "10               NaN\n",
       "11            France\n",
       "12           Germany\n",
       "13            Greece\n",
       "14           Hungary\n",
       "15               NaN\n",
       "16           Ireland\n",
       "17             Italy\n",
       "18            Latvia\n",
       "19         Lithuania\n",
       "20               NaN\n",
       "21         Macedonia\n",
       "22             Malta\n",
       "23        Montenegro\n",
       "24       Netherlands\n",
       "25               NaN\n",
       "26            Poland\n",
       "27          Portugal\n",
       "28           Romania\n",
       "29            Russia\n",
       "30            Serbia\n",
       "31          Slovenia\n",
       "32             Spain\n",
       "33               NaN\n",
       "34               NaN\n",
       "35    United Kingdom\n",
       "36            Turkey\n",
       "37           Ukraine\n",
       "dtype: object"
      ]
     },
     "execution_count": 43,
     "metadata": {},
     "output_type": "execute_result"
    }
   ],
   "source": [
    "b_m_2010 = energy2010_series<mean_2010\n",
    "countries_series.where(b_m_2010)"
   ]
  },
  {
   "cell_type": "code",
   "execution_count": 46,
   "id": "93f30ba8",
   "metadata": {
    "scrolled": false
   },
   "outputs": [
    {
     "data": {
      "text/plain": [
       "0     NaN\n",
       "1     NaN\n",
       "2     NaN\n",
       "3     NaN\n",
       "4     NaN\n",
       "5     NaN\n",
       "6     NaN\n",
       "7     NaN\n",
       "8     NaN\n",
       "9     NaN\n",
       "10    NaN\n",
       "11    NaN\n",
       "12    NaN\n",
       "13    NaN\n",
       "14    NaN\n",
       "15    NaN\n",
       "16    NaN\n",
       "17    NaN\n",
       "18    NaN\n",
       "19    NaN\n",
       "20    NaN\n",
       "21    NaN\n",
       "22    NaN\n",
       "23    NaN\n",
       "24    NaN\n",
       "25    NaN\n",
       "26    NaN\n",
       "27    NaN\n",
       "28    NaN\n",
       "29    NaN\n",
       "30    NaN\n",
       "31    NaN\n",
       "32    NaN\n",
       "33    NaN\n",
       "34    NaN\n",
       "35    NaN\n",
       "36    NaN\n",
       "37    NaN\n",
       "dtype: object"
      ]
     },
     "execution_count": 46,
     "metadata": {},
     "output_type": "execute_result"
    }
   ],
   "source": [
    "countries_series.where(b_m_2010 & a_m_2012)"
   ]
  }
 ],
 "metadata": {
  "kernelspec": {
   "display_name": "Python 3 (ipykernel)",
   "language": "python",
   "name": "python3"
  },
  "language_info": {
   "codemirror_mode": {
    "name": "ipython",
    "version": 3
   },
   "file_extension": ".py",
   "mimetype": "text/x-python",
   "name": "python",
   "nbconvert_exporter": "python",
   "pygments_lexer": "ipython3",
   "version": "3.11.1"
  }
 },
 "nbformat": 4,
 "nbformat_minor": 5
}
