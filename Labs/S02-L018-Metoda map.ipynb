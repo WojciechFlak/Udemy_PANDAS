{
 "cells": [
  {
   "cell_type": "code",
   "execution_count": 1,
   "id": "eff28b3d",
   "metadata": {},
   "outputs": [],
   "source": [
    "import pandas as pd\n",
    "import random as rnd"
   ]
  },
  {
   "cell_type": "code",
   "execution_count": 3,
   "id": "4432ef58",
   "metadata": {},
   "outputs": [],
   "source": [
    "aircrafts = {'PYT001' : 'Airbus 320',\n",
    "          'PYT002' : 'Boeing 737',\n",
    "          'PYT003' : 'Airbus 321'}"
   ]
  },
  {
   "cell_type": "code",
   "execution_count": 4,
   "id": "ff3e1d1a",
   "metadata": {},
   "outputs": [],
   "source": [
    "aircrafts_series = pd.Series(aircrafts)"
   ]
  },
  {
   "cell_type": "code",
   "execution_count": 18,
   "id": "78fe4378",
   "metadata": {},
   "outputs": [],
   "source": [
    "flight_list = []\n",
    "for i in range(100):\n",
    "    flight = rnd.choice(list(aircrafts_series.index))\n",
    "    flight_list.append(flight)"
   ]
  },
  {
   "cell_type": "code",
   "execution_count": 19,
   "id": "3ea0a344",
   "metadata": {},
   "outputs": [
    {
     "data": {
      "text/plain": [
       "['PYT001', 'PYT003', 'PYT002', 'PYT003', 'PYT002']"
      ]
     },
     "execution_count": 19,
     "metadata": {},
     "output_type": "execute_result"
    }
   ],
   "source": [
    "flight_list[:5]"
   ]
  },
  {
   "cell_type": "code",
   "execution_count": 20,
   "id": "f2eb70dd",
   "metadata": {},
   "outputs": [
    {
     "data": {
      "text/plain": [
       "0    PYT001\n",
       "1    PYT003\n",
       "2    PYT002\n",
       "3    PYT003\n",
       "4    PYT002\n",
       "dtype: object"
      ]
     },
     "execution_count": 20,
     "metadata": {},
     "output_type": "execute_result"
    }
   ],
   "source": [
    "flights_series = pd.Series(flight_list)\n",
    "flights_series.head()"
   ]
  },
  {
   "cell_type": "code",
   "execution_count": 21,
   "id": "159e960a",
   "metadata": {},
   "outputs": [
    {
     "data": {
      "text/plain": [
       "0    Airbus 320\n",
       "1    Airbus 321\n",
       "2    Boeing 737\n",
       "3    Airbus 321\n",
       "4    Boeing 737\n",
       "dtype: object"
      ]
     },
     "execution_count": 21,
     "metadata": {},
     "output_type": "execute_result"
    }
   ],
   "source": [
    "flights_aircraft_series = flights_series.map(aircrafts_series)\n",
    "flights_aircraft_series.head()"
   ]
  }
 ],
 "metadata": {
  "kernelspec": {
   "display_name": "Python 3 (ipykernel)",
   "language": "python",
   "name": "python3"
  },
  "language_info": {
   "codemirror_mode": {
    "name": "ipython",
    "version": 3
   },
   "file_extension": ".py",
   "mimetype": "text/x-python",
   "name": "python",
   "nbconvert_exporter": "python",
   "pygments_lexer": "ipython3",
   "version": "3.11.1"
  }
 },
 "nbformat": 4,
 "nbformat_minor": 5
}
