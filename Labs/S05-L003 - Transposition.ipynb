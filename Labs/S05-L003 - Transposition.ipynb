{
 "cells": [
  {
   "cell_type": "code",
   "execution_count": 1,
   "id": "c3ad0e99",
   "metadata": {},
   "outputs": [
    {
     "data": {
      "text/html": [
       "<div>\n",
       "<style scoped>\n",
       "    .dataframe tbody tr th:only-of-type {\n",
       "        vertical-align: middle;\n",
       "    }\n",
       "\n",
       "    .dataframe tbody tr th {\n",
       "        vertical-align: top;\n",
       "    }\n",
       "\n",
       "    .dataframe thead th {\n",
       "        text-align: right;\n",
       "    }\n",
       "</style>\n",
       "<table border=\"1\" class=\"dataframe\">\n",
       "  <thead>\n",
       "    <tr style=\"text-align: right;\">\n",
       "      <th></th>\n",
       "      <th></th>\n",
       "      <th></th>\n",
       "      <th>Range (FT1)</th>\n",
       "      <th>City Range (FT1)</th>\n",
       "    </tr>\n",
       "    <tr>\n",
       "      <th>Year</th>\n",
       "      <th>Make</th>\n",
       "      <th>Model</th>\n",
       "      <th></th>\n",
       "      <th></th>\n",
       "    </tr>\n",
       "  </thead>\n",
       "  <tbody>\n",
       "    <tr>\n",
       "      <th rowspan=\"5\" valign=\"top\">1984</th>\n",
       "      <th rowspan=\"4\" valign=\"top\">Alfa Romeo</th>\n",
       "      <th>GT V6 2.5</th>\n",
       "      <td>0.0</td>\n",
       "      <td>0.0</td>\n",
       "    </tr>\n",
       "    <tr>\n",
       "      <th>GT V6 2.5</th>\n",
       "      <td>0.0</td>\n",
       "      <td>0.0</td>\n",
       "    </tr>\n",
       "    <tr>\n",
       "      <th>Spider Veloce 2000</th>\n",
       "      <td>0.0</td>\n",
       "      <td>0.0</td>\n",
       "    </tr>\n",
       "    <tr>\n",
       "      <th>Spider Veloce 2000</th>\n",
       "      <td>0.0</td>\n",
       "      <td>0.0</td>\n",
       "    </tr>\n",
       "    <tr>\n",
       "      <th>AM General</th>\n",
       "      <th>DJ Po Vehicle 2WD</th>\n",
       "      <td>0.0</td>\n",
       "      <td>0.0</td>\n",
       "    </tr>\n",
       "  </tbody>\n",
       "</table>\n",
       "</div>"
      ],
      "text/plain": [
       "                                    Range (FT1)  City Range (FT1)\n",
       "Year Make       Model                                            \n",
       "1984 Alfa Romeo GT V6 2.5                   0.0               0.0\n",
       "                GT V6 2.5                   0.0               0.0\n",
       "                Spider Veloce 2000          0.0               0.0\n",
       "                Spider Veloce 2000          0.0               0.0\n",
       "     AM General DJ Po Vehicle 2WD           0.0               0.0"
      ]
     },
     "execution_count": 1,
     "metadata": {},
     "output_type": "execute_result"
    }
   ],
   "source": [
    "import pandas as pd\n",
    "\n",
    "fuel = pd.read_csv('../Labs files/course-files/fuel.csv',\n",
    "                  usecols=['Year','Make','Model','Range (FT1)','City Range (FT1)'],\n",
    "                  index_col=['Year','Make','Model'])\n",
    "fuel.head()"
   ]
  },
  {
   "cell_type": "code",
   "execution_count": 7,
   "id": "a0d0c8f6",
   "metadata": {},
   "outputs": [
    {
     "name": "stderr",
     "output_type": "stream",
     "text": [
      "/var/folders/rz/24qlfvg126sfp2zf4589lt9h0000gn/T/ipykernel_24517/3516270632.py:1: PerformanceWarning: indexing past lexsort depth may impact performance.\n",
      "  fuel.loc[(1984, 'Alfa Romeo')]\n"
     ]
    },
    {
     "data": {
      "text/html": [
       "<div>\n",
       "<style scoped>\n",
       "    .dataframe tbody tr th:only-of-type {\n",
       "        vertical-align: middle;\n",
       "    }\n",
       "\n",
       "    .dataframe tbody tr th {\n",
       "        vertical-align: top;\n",
       "    }\n",
       "\n",
       "    .dataframe thead th {\n",
       "        text-align: right;\n",
       "    }\n",
       "</style>\n",
       "<table border=\"1\" class=\"dataframe\">\n",
       "  <thead>\n",
       "    <tr style=\"text-align: right;\">\n",
       "      <th></th>\n",
       "      <th>Range (FT1)</th>\n",
       "      <th>City Range (FT1)</th>\n",
       "    </tr>\n",
       "    <tr>\n",
       "      <th>Model</th>\n",
       "      <th></th>\n",
       "      <th></th>\n",
       "    </tr>\n",
       "  </thead>\n",
       "  <tbody>\n",
       "    <tr>\n",
       "      <th>GT V6 2.5</th>\n",
       "      <td>0.0</td>\n",
       "      <td>0.0</td>\n",
       "    </tr>\n",
       "    <tr>\n",
       "      <th>GT V6 2.5</th>\n",
       "      <td>0.0</td>\n",
       "      <td>0.0</td>\n",
       "    </tr>\n",
       "    <tr>\n",
       "      <th>Spider Veloce 2000</th>\n",
       "      <td>0.0</td>\n",
       "      <td>0.0</td>\n",
       "    </tr>\n",
       "    <tr>\n",
       "      <th>Spider Veloce 2000</th>\n",
       "      <td>0.0</td>\n",
       "      <td>0.0</td>\n",
       "    </tr>\n",
       "  </tbody>\n",
       "</table>\n",
       "</div>"
      ],
      "text/plain": [
       "                    Range (FT1)  City Range (FT1)\n",
       "Model                                            \n",
       "GT V6 2.5                   0.0               0.0\n",
       "GT V6 2.5                   0.0               0.0\n",
       "Spider Veloce 2000          0.0               0.0\n",
       "Spider Veloce 2000          0.0               0.0"
      ]
     },
     "execution_count": 7,
     "metadata": {},
     "output_type": "execute_result"
    }
   ],
   "source": [
    "fuel.loc[(1984, 'Alfa Romeo')]"
   ]
  },
  {
   "cell_type": "code",
   "execution_count": 9,
   "id": "f7eb4768",
   "metadata": {},
   "outputs": [
    {
     "name": "stderr",
     "output_type": "stream",
     "text": [
      "/var/folders/rz/24qlfvg126sfp2zf4589lt9h0000gn/T/ipykernel_24517/270473644.py:1: PerformanceWarning: indexing past lexsort depth may impact performance.\n",
      "  fuel.loc[(1984, 'Alfa Romeo','Spider Veloce 2000')]\n"
     ]
    },
    {
     "data": {
      "text/html": [
       "<div>\n",
       "<style scoped>\n",
       "    .dataframe tbody tr th:only-of-type {\n",
       "        vertical-align: middle;\n",
       "    }\n",
       "\n",
       "    .dataframe tbody tr th {\n",
       "        vertical-align: top;\n",
       "    }\n",
       "\n",
       "    .dataframe thead th {\n",
       "        text-align: right;\n",
       "    }\n",
       "</style>\n",
       "<table border=\"1\" class=\"dataframe\">\n",
       "  <thead>\n",
       "    <tr style=\"text-align: right;\">\n",
       "      <th></th>\n",
       "      <th></th>\n",
       "      <th></th>\n",
       "      <th>Range (FT1)</th>\n",
       "      <th>City Range (FT1)</th>\n",
       "    </tr>\n",
       "    <tr>\n",
       "      <th>Year</th>\n",
       "      <th>Make</th>\n",
       "      <th>Model</th>\n",
       "      <th></th>\n",
       "      <th></th>\n",
       "    </tr>\n",
       "  </thead>\n",
       "  <tbody>\n",
       "    <tr>\n",
       "      <th rowspan=\"2\" valign=\"top\">1984</th>\n",
       "      <th rowspan=\"2\" valign=\"top\">Alfa Romeo</th>\n",
       "      <th>Spider Veloce 2000</th>\n",
       "      <td>0.0</td>\n",
       "      <td>0.0</td>\n",
       "    </tr>\n",
       "    <tr>\n",
       "      <th>Spider Veloce 2000</th>\n",
       "      <td>0.0</td>\n",
       "      <td>0.0</td>\n",
       "    </tr>\n",
       "  </tbody>\n",
       "</table>\n",
       "</div>"
      ],
      "text/plain": [
       "                                    Range (FT1)  City Range (FT1)\n",
       "Year Make       Model                                            \n",
       "1984 Alfa Romeo Spider Veloce 2000          0.0               0.0\n",
       "                Spider Veloce 2000          0.0               0.0"
      ]
     },
     "execution_count": 9,
     "metadata": {},
     "output_type": "execute_result"
    }
   ],
   "source": [
    "fuel.loc[(1984, 'Alfa Romeo','Spider Veloce 2000')]"
   ]
  },
  {
   "cell_type": "code",
   "execution_count": 10,
   "id": "5f4194e9",
   "metadata": {},
   "outputs": [
    {
     "name": "stderr",
     "output_type": "stream",
     "text": [
      "/var/folders/rz/24qlfvg126sfp2zf4589lt9h0000gn/T/ipykernel_24517/3800564402.py:1: PerformanceWarning: indexing past lexsort depth may impact performance.\n",
      "  fuel.loc[(1984, 'Alfa Romeo','Spider Veloce 2000'), 'Range (FT1)']\n"
     ]
    },
    {
     "data": {
      "text/plain": [
       "Year  Make        Model             \n",
       "1984  Alfa Romeo  Spider Veloce 2000    0.0\n",
       "                  Spider Veloce 2000    0.0\n",
       "Name: Range (FT1), dtype: float64"
      ]
     },
     "execution_count": 10,
     "metadata": {},
     "output_type": "execute_result"
    }
   ],
   "source": [
    "fuel.loc[(1984, 'Alfa Romeo','Spider Veloce 2000'), 'Range (FT1)']"
   ]
  },
  {
   "cell_type": "code",
   "execution_count": 11,
   "id": "3f4de0be",
   "metadata": {},
   "outputs": [
    {
     "data": {
      "text/html": [
       "<div>\n",
       "<style scoped>\n",
       "    .dataframe tbody tr th:only-of-type {\n",
       "        vertical-align: middle;\n",
       "    }\n",
       "\n",
       "    .dataframe tbody tr th {\n",
       "        vertical-align: top;\n",
       "    }\n",
       "\n",
       "    .dataframe thead tr th {\n",
       "        text-align: left;\n",
       "    }\n",
       "</style>\n",
       "<table border=\"1\" class=\"dataframe\">\n",
       "  <thead>\n",
       "    <tr>\n",
       "      <th>Year</th>\n",
       "      <th colspan=\"10\" halign=\"left\">1984</th>\n",
       "      <th>...</th>\n",
       "      <th colspan=\"10\" halign=\"left\">2012</th>\n",
       "    </tr>\n",
       "    <tr>\n",
       "      <th>Make</th>\n",
       "      <th colspan=\"4\" halign=\"left\">Alfa Romeo</th>\n",
       "      <th colspan=\"4\" halign=\"left\">AM General</th>\n",
       "      <th colspan=\"2\" halign=\"left\">American Motors Corporation</th>\n",
       "      <th>...</th>\n",
       "      <th colspan=\"9\" halign=\"left\">Mitsubishi</th>\n",
       "      <th>Mitsubish</th>\n",
       "    </tr>\n",
       "    <tr>\n",
       "      <th>Model</th>\n",
       "      <th>GT V6 2.5</th>\n",
       "      <th>GT V6 2.5</th>\n",
       "      <th>Spider Veloce 2000</th>\n",
       "      <th>Spider Veloce 2000</th>\n",
       "      <th>DJ Po Vehicle 2WD</th>\n",
       "      <th>DJ Po Vehicle 2WD</th>\n",
       "      <th>FJ8c Post Office</th>\n",
       "      <th>FJ8c Post Office</th>\n",
       "      <th>Eagle 4WD</th>\n",
       "      <th>Eagle 4WD</th>\n",
       "      <th>...</th>\n",
       "      <th>i-MiEV</th>\n",
       "      <th>Lancer</th>\n",
       "      <th>Lancer</th>\n",
       "      <th>Lancer</th>\n",
       "      <th>Lancer</th>\n",
       "      <th>Lancer</th>\n",
       "      <th>Lancer AWD</th>\n",
       "      <th>Lancer Evolution</th>\n",
       "      <th>Lancer Evolution</th>\n",
       "      <th>NaN</th>\n",
       "    </tr>\n",
       "  </thead>\n",
       "  <tbody>\n",
       "    <tr>\n",
       "      <th>Range (FT1)</th>\n",
       "      <td>0.0</td>\n",
       "      <td>0.0</td>\n",
       "      <td>0.0</td>\n",
       "      <td>0.0</td>\n",
       "      <td>0.0</td>\n",
       "      <td>0.0</td>\n",
       "      <td>0.0</td>\n",
       "      <td>0.0</td>\n",
       "      <td>0.0</td>\n",
       "      <td>0.0</td>\n",
       "      <td>...</td>\n",
       "      <td>62.0000</td>\n",
       "      <td>0.0</td>\n",
       "      <td>0.0</td>\n",
       "      <td>0.0</td>\n",
       "      <td>0.0</td>\n",
       "      <td>0.0</td>\n",
       "      <td>0.0</td>\n",
       "      <td>0.0</td>\n",
       "      <td>0.0</td>\n",
       "      <td>NaN</td>\n",
       "    </tr>\n",
       "    <tr>\n",
       "      <th>City Range (FT1)</th>\n",
       "      <td>0.0</td>\n",
       "      <td>0.0</td>\n",
       "      <td>0.0</td>\n",
       "      <td>0.0</td>\n",
       "      <td>0.0</td>\n",
       "      <td>0.0</td>\n",
       "      <td>0.0</td>\n",
       "      <td>0.0</td>\n",
       "      <td>0.0</td>\n",
       "      <td>0.0</td>\n",
       "      <td>...</td>\n",
       "      <td>68.5545</td>\n",
       "      <td>0.0</td>\n",
       "      <td>0.0</td>\n",
       "      <td>0.0</td>\n",
       "      <td>0.0</td>\n",
       "      <td>0.0</td>\n",
       "      <td>0.0</td>\n",
       "      <td>0.0</td>\n",
       "      <td>0.0</td>\n",
       "      <td>NaN</td>\n",
       "    </tr>\n",
       "  </tbody>\n",
       "</table>\n",
       "<p>2 rows × 31684 columns</p>\n",
       "</div>"
      ],
      "text/plain": [
       "Year                   1984                                                  \\\n",
       "Make             Alfa Romeo                                                   \n",
       "Model             GT V6 2.5 GT V6 2.5 Spider Veloce 2000 Spider Veloce 2000   \n",
       "Range (FT1)             0.0       0.0                0.0                0.0   \n",
       "City Range (FT1)        0.0       0.0                0.0                0.0   \n",
       "\n",
       "Year                                                                   \\\n",
       "Make                    AM General                                      \n",
       "Model            DJ Po Vehicle 2WD DJ Po Vehicle 2WD FJ8c Post Office   \n",
       "Range (FT1)                    0.0               0.0              0.0   \n",
       "City Range (FT1)               0.0               0.0              0.0   \n",
       "\n",
       "Year                                                                     ...  \\\n",
       "Make                              American Motors Corporation            ...   \n",
       "Model            FJ8c Post Office                   Eagle 4WD Eagle 4WD  ...   \n",
       "Range (FT1)                   0.0                         0.0       0.0  ...   \n",
       "City Range (FT1)              0.0                         0.0       0.0  ...   \n",
       "\n",
       "Year                   2012                                                \\\n",
       "Make             Mitsubishi                                                 \n",
       "Model                i-MiEV Lancer Lancer Lancer Lancer Lancer Lancer AWD   \n",
       "Range (FT1)         62.0000    0.0    0.0    0.0    0.0    0.0        0.0   \n",
       "City Range (FT1)    68.5545    0.0    0.0    0.0    0.0    0.0        0.0   \n",
       "\n",
       "Year                                                          \n",
       "Make                                               Mitsubish  \n",
       "Model            Lancer Evolution Lancer Evolution       NaN  \n",
       "Range (FT1)                   0.0              0.0       NaN  \n",
       "City Range (FT1)              0.0              0.0       NaN  \n",
       "\n",
       "[2 rows x 31684 columns]"
      ]
     },
     "execution_count": 11,
     "metadata": {},
     "output_type": "execute_result"
    }
   ],
   "source": [
    "fuel = fuel.transpose()\n",
    "fuel.head()"
   ]
  },
  {
   "cell_type": "code",
   "execution_count": 12,
   "id": "b79d9da6",
   "metadata": {},
   "outputs": [
    {
     "data": {
      "text/plain": [
       "Year  Make        Model             \n",
       "1984  Alfa Romeo  GT V6 2.5             0.0\n",
       "                  GT V6 2.5             0.0\n",
       "                  Spider Veloce 2000    0.0\n",
       "                  Spider Veloce 2000    0.0\n",
       "      AM General  DJ Po Vehicle 2WD     0.0\n",
       "                                       ... \n",
       "2012  Mitsubishi  Lancer                0.0\n",
       "                  Lancer AWD            0.0\n",
       "                  Lancer Evolution      0.0\n",
       "                  Lancer Evolution      0.0\n",
       "      Mitsubish   NaN                   NaN\n",
       "Name: Range (FT1), Length: 31684, dtype: float64"
      ]
     },
     "execution_count": 12,
     "metadata": {},
     "output_type": "execute_result"
    }
   ],
   "source": [
    "fuel.loc['Range (FT1)']"
   ]
  },
  {
   "cell_type": "code",
   "execution_count": 13,
   "id": "dd362b2b",
   "metadata": {},
   "outputs": [
    {
     "data": {
      "text/plain": [
       "Make        Model             \n",
       "Alfa Romeo  GT V6 2.5             0.0\n",
       "            GT V6 2.5             0.0\n",
       "            Spider Veloce 2000    0.0\n",
       "            Spider Veloce 2000    0.0\n",
       "AM General  DJ Po Vehicle 2WD     0.0\n",
       "                                 ... \n",
       "Volvo       760 GLE               0.0\n",
       "            760 GLE               0.0\n",
       "            760 GLE               0.0\n",
       "            760 GLE               0.0\n",
       "            760 GLE               0.0\n",
       "Name: Range (FT1), Length: 1964, dtype: float64"
      ]
     },
     "execution_count": 13,
     "metadata": {},
     "output_type": "execute_result"
    }
   ],
   "source": [
    "fuel.loc['Range (FT1)',(1984)]"
   ]
  },
  {
   "cell_type": "code",
   "execution_count": 16,
   "id": "8e6e7612",
   "metadata": {},
   "outputs": [
    {
     "data": {
      "text/html": [
       "<div>\n",
       "<style scoped>\n",
       "    .dataframe tbody tr th:only-of-type {\n",
       "        vertical-align: middle;\n",
       "    }\n",
       "\n",
       "    .dataframe tbody tr th {\n",
       "        vertical-align: top;\n",
       "    }\n",
       "\n",
       "    .dataframe thead tr th {\n",
       "        text-align: left;\n",
       "    }\n",
       "</style>\n",
       "<table border=\"1\" class=\"dataframe\">\n",
       "  <thead>\n",
       "    <tr>\n",
       "      <th>Make</th>\n",
       "      <th colspan=\"4\" halign=\"left\">Alfa Romeo</th>\n",
       "      <th colspan=\"4\" halign=\"left\">AM General</th>\n",
       "      <th colspan=\"2\" halign=\"left\">American Motors Corporation</th>\n",
       "      <th>...</th>\n",
       "      <th colspan=\"10\" halign=\"left\">Volvo</th>\n",
       "    </tr>\n",
       "    <tr>\n",
       "      <th>Model</th>\n",
       "      <th>GT V6 2.5</th>\n",
       "      <th>GT V6 2.5</th>\n",
       "      <th>Spider Veloce 2000</th>\n",
       "      <th>Spider Veloce 2000</th>\n",
       "      <th>DJ Po Vehicle 2WD</th>\n",
       "      <th>DJ Po Vehicle 2WD</th>\n",
       "      <th>FJ8c Post Office</th>\n",
       "      <th>FJ8c Post Office</th>\n",
       "      <th>Eagle 4WD</th>\n",
       "      <th>Eagle 4WD</th>\n",
       "      <th>...</th>\n",
       "      <th>240 DL/GL/Turbo Wagon</th>\n",
       "      <th>760 GLE</th>\n",
       "      <th>760 GLE</th>\n",
       "      <th>760 GLE</th>\n",
       "      <th>760 GLE</th>\n",
       "      <th>760 GLE</th>\n",
       "      <th>760 GLE</th>\n",
       "      <th>760 GLE</th>\n",
       "      <th>760 GLE</th>\n",
       "      <th>760 GLE</th>\n",
       "    </tr>\n",
       "  </thead>\n",
       "  <tbody>\n",
       "    <tr>\n",
       "      <th>Range (FT1)</th>\n",
       "      <td>0.0</td>\n",
       "      <td>0.0</td>\n",
       "      <td>0.0</td>\n",
       "      <td>0.0</td>\n",
       "      <td>0.0</td>\n",
       "      <td>0.0</td>\n",
       "      <td>0.0</td>\n",
       "      <td>0.0</td>\n",
       "      <td>0.0</td>\n",
       "      <td>0.0</td>\n",
       "      <td>...</td>\n",
       "      <td>0.0</td>\n",
       "      <td>0.0</td>\n",
       "      <td>0.0</td>\n",
       "      <td>0.0</td>\n",
       "      <td>0.0</td>\n",
       "      <td>0.0</td>\n",
       "      <td>0.0</td>\n",
       "      <td>0.0</td>\n",
       "      <td>0.0</td>\n",
       "      <td>0.0</td>\n",
       "    </tr>\n",
       "    <tr>\n",
       "      <th>City Range (FT1)</th>\n",
       "      <td>0.0</td>\n",
       "      <td>0.0</td>\n",
       "      <td>0.0</td>\n",
       "      <td>0.0</td>\n",
       "      <td>0.0</td>\n",
       "      <td>0.0</td>\n",
       "      <td>0.0</td>\n",
       "      <td>0.0</td>\n",
       "      <td>0.0</td>\n",
       "      <td>0.0</td>\n",
       "      <td>...</td>\n",
       "      <td>0.0</td>\n",
       "      <td>0.0</td>\n",
       "      <td>0.0</td>\n",
       "      <td>0.0</td>\n",
       "      <td>0.0</td>\n",
       "      <td>0.0</td>\n",
       "      <td>0.0</td>\n",
       "      <td>0.0</td>\n",
       "      <td>0.0</td>\n",
       "      <td>0.0</td>\n",
       "    </tr>\n",
       "  </tbody>\n",
       "</table>\n",
       "<p>2 rows × 1964 columns</p>\n",
       "</div>"
      ],
      "text/plain": [
       "Make             Alfa Romeo                                                  \\\n",
       "Model             GT V6 2.5 GT V6 2.5 Spider Veloce 2000 Spider Veloce 2000   \n",
       "Range (FT1)             0.0       0.0                0.0                0.0   \n",
       "City Range (FT1)        0.0       0.0                0.0                0.0   \n",
       "\n",
       "Make                    AM General                                     \\\n",
       "Model            DJ Po Vehicle 2WD DJ Po Vehicle 2WD FJ8c Post Office   \n",
       "Range (FT1)                    0.0               0.0              0.0   \n",
       "City Range (FT1)               0.0               0.0              0.0   \n",
       "\n",
       "Make                              American Motors Corporation            ...  \\\n",
       "Model            FJ8c Post Office                   Eagle 4WD Eagle 4WD  ...   \n",
       "Range (FT1)                   0.0                         0.0       0.0  ...   \n",
       "City Range (FT1)              0.0                         0.0       0.0  ...   \n",
       "\n",
       "Make                             Volvo                                  \\\n",
       "Model            240 DL/GL/Turbo Wagon 760 GLE 760 GLE 760 GLE 760 GLE   \n",
       "Range (FT1)                        0.0     0.0     0.0     0.0     0.0   \n",
       "City Range (FT1)                   0.0     0.0     0.0     0.0     0.0   \n",
       "\n",
       "Make                                                      \n",
       "Model            760 GLE 760 GLE 760 GLE 760 GLE 760 GLE  \n",
       "Range (FT1)          0.0     0.0     0.0     0.0     0.0  \n",
       "City Range (FT1)     0.0     0.0     0.0     0.0     0.0  \n",
       "\n",
       "[2 rows x 1964 columns]"
      ]
     },
     "execution_count": 16,
     "metadata": {},
     "output_type": "execute_result"
    }
   ],
   "source": []
  },
  {
   "cell_type": "code",
   "execution_count": 17,
   "id": "3fb1d596",
   "metadata": {},
   "outputs": [
    {
     "name": "stderr",
     "output_type": "stream",
     "text": [
      "/var/folders/rz/24qlfvg126sfp2zf4589lt9h0000gn/T/ipykernel_24517/3767641054.py:1: PerformanceWarning: indexing past lexsort depth may impact performance.\n",
      "  fuel.loc['Range (FT1)',(1984,'Alfa Romeo')]\n"
     ]
    },
    {
     "data": {
      "text/plain": [
       "Model\n",
       "GT V6 2.5             0.0\n",
       "GT V6 2.5             0.0\n",
       "Spider Veloce 2000    0.0\n",
       "Spider Veloce 2000    0.0\n",
       "Name: Range (FT1), dtype: float64"
      ]
     },
     "execution_count": 17,
     "metadata": {},
     "output_type": "execute_result"
    }
   ],
   "source": [
    "fuel.loc['Range (FT1)',(1984,'Alfa Romeo')]"
   ]
  },
  {
   "cell_type": "code",
   "execution_count": 18,
   "id": "84e4fad7",
   "metadata": {},
   "outputs": [
    {
     "name": "stderr",
     "output_type": "stream",
     "text": [
      "/var/folders/rz/24qlfvg126sfp2zf4589lt9h0000gn/T/ipykernel_24517/827496175.py:1: PerformanceWarning: indexing past lexsort depth may impact performance.\n",
      "  fuel.loc['Range (FT1)',(1984,'Alfa Romeo','Spider Veloce 2000')]\n"
     ]
    },
    {
     "data": {
      "text/plain": [
       "Year  Make        Model             \n",
       "1984  Alfa Romeo  Spider Veloce 2000    0.0\n",
       "                  Spider Veloce 2000    0.0\n",
       "Name: Range (FT1), dtype: float64"
      ]
     },
     "execution_count": 18,
     "metadata": {},
     "output_type": "execute_result"
    }
   ],
   "source": [
    "fuel.loc['Range (FT1)',(1984,'Alfa Romeo','Spider Veloce 2000')]"
   ]
  },
  {
   "cell_type": "code",
   "execution_count": null,
   "id": "ae259eef",
   "metadata": {},
   "outputs": [],
   "source": []
  }
 ],
 "metadata": {
  "kernelspec": {
   "display_name": "Python 3 (ipykernel)",
   "language": "python",
   "name": "python3"
  },
  "language_info": {
   "codemirror_mode": {
    "name": "ipython",
    "version": 3
   },
   "file_extension": ".py",
   "mimetype": "text/x-python",
   "name": "python",
   "nbconvert_exporter": "python",
   "pygments_lexer": "ipython3",
   "version": "3.11.1"
  }
 },
 "nbformat": 4,
 "nbformat_minor": 5
}
