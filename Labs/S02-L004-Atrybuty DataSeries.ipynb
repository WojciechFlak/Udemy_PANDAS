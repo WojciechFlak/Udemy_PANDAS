{
 "cells": [
  {
   "cell_type": "code",
   "execution_count": 2,
   "id": "c3f6e22f",
   "metadata": {},
   "outputs": [],
   "source": [
    "import numpy as np\n",
    "import pandas as pd\n",
    "import matplotlib.pyplot as plt \n",
    "import math\n",
    "import random as rnd"
   ]
  },
  {
   "cell_type": "code",
   "execution_count": 5,
   "id": "883b8889",
   "metadata": {
    "collapsed": true
   },
   "outputs": [
    {
     "data": {
      "text/plain": [
       "0      0.984846\n",
       "1      0.559207\n",
       "2      0.337934\n",
       "3      0.874589\n",
       "4      0.826557\n",
       "         ...   \n",
       "995    0.595266\n",
       "996    0.583177\n",
       "997    0.090657\n",
       "998    0.711560\n",
       "999    0.177711\n",
       "Length: 1000, dtype: float64"
      ]
     },
     "execution_count": 5,
     "metadata": {},
     "output_type": "execute_result"
    }
   ],
   "source": [
    "data_as_float_list = []\n",
    "for i in range(1000):\n",
    "    n = 1*rnd.random()\n",
    "    data_as_float_list.append(n)\n",
    "data_as_float_series = pd.Series(data_as_float_list)\n",
    "data_as_float_series"
   ]
  },
  {
   "cell_type": "code",
   "execution_count": 6,
   "id": "d833ff3a",
   "metadata": {},
   "outputs": [
    {
     "data": {
      "text/plain": [
       "1000"
      ]
     },
     "execution_count": 6,
     "metadata": {},
     "output_type": "execute_result"
    }
   ],
   "source": [
    "data_as_float_series.size"
   ]
  },
  {
   "cell_type": "code",
   "execution_count": 7,
   "id": "81ba6d28",
   "metadata": {},
   "outputs": [
    {
     "data": {
      "text/plain": [
       "8000"
      ]
     },
     "execution_count": 7,
     "metadata": {},
     "output_type": "execute_result"
    }
   ],
   "source": [
    "data_as_float_series.nbytes"
   ]
  },
  {
   "cell_type": "code",
   "execution_count": 8,
   "id": "6a1e9daf",
   "metadata": {},
   "outputs": [
    {
     "data": {
      "text/plain": [
       "(1000,)"
      ]
     },
     "execution_count": 8,
     "metadata": {},
     "output_type": "execute_result"
    }
   ],
   "source": [
    "data_as_float_series.shape"
   ]
  },
  {
   "cell_type": "code",
   "execution_count": 9,
   "id": "d4634bfc",
   "metadata": {},
   "outputs": [
    {
     "data": {
      "text/plain": [
       "[RangeIndex(start=0, stop=1000, step=1)]"
      ]
     },
     "execution_count": 9,
     "metadata": {},
     "output_type": "execute_result"
    }
   ],
   "source": [
    "data_as_float_series.axes"
   ]
  },
  {
   "cell_type": "code",
   "execution_count": 10,
   "id": "4558e53d",
   "metadata": {},
   "outputs": [
    {
     "data": {
      "text/plain": [
       "dtype('float64')"
      ]
     },
     "execution_count": 10,
     "metadata": {},
     "output_type": "execute_result"
    }
   ],
   "source": [
    "data_as_float_series.dtype"
   ]
  },
  {
   "cell_type": "code",
   "execution_count": 11,
   "id": "34b11a5c",
   "metadata": {},
   "outputs": [
    {
     "data": {
      "text/plain": [
       "RangeIndex(start=0, stop=1000, step=1)"
      ]
     },
     "execution_count": 11,
     "metadata": {},
     "output_type": "execute_result"
    }
   ],
   "source": [
    "data_as_float_series.index"
   ]
  },
  {
   "cell_type": "code",
   "execution_count": 12,
   "id": "f2097cfa",
   "metadata": {},
   "outputs": [
    {
     "data": {
      "text/plain": [
       "True"
      ]
     },
     "execution_count": 12,
     "metadata": {},
     "output_type": "execute_result"
    }
   ],
   "source": [
    "data_as_float_series.is_unique"
   ]
  },
  {
   "cell_type": "code",
   "execution_count": 14,
   "id": "e0cceb4f",
   "metadata": {},
   "outputs": [
    {
     "data": {
      "text/plain": [
       "False"
      ]
     },
     "execution_count": 14,
     "metadata": {},
     "output_type": "execute_result"
    }
   ],
   "source": [
    "data_as_float_series.is_monotonic_decreasing"
   ]
  },
  {
   "cell_type": "code",
   "execution_count": 15,
   "id": "4fc8defc",
   "metadata": {},
   "outputs": [
    {
     "data": {
      "text/plain": [
       "0      0.0014999106454346434\n",
       "1         0.8638697237704153\n",
       "2         0.5799572627703237\n",
       "3         0.8426666549894664\n",
       "4         0.8103133859525241\n",
       "               ...          \n",
       "995       0.9975816655797748\n",
       "996     0.004930899529589583\n",
       "997        0.590110990522434\n",
       "998      0.40461322313951364\n",
       "999       0.7754847931065435\n",
       "Length: 1000, dtype: object"
      ]
     },
     "execution_count": 15,
     "metadata": {},
     "output_type": "execute_result"
    }
   ],
   "source": [
    "data_as_string_list = []\n",
    "for i in range(1000):\n",
    "    n = str(1*rnd.random())\n",
    "    data_as_string_list.append(n)\n",
    "data_as_string_series = pd.Series(data_as_string_list)\n",
    "data_as_string_series"
   ]
  },
  {
   "cell_type": "code",
   "execution_count": 16,
   "id": "1512c77a",
   "metadata": {},
   "outputs": [
    {
     "data": {
      "text/plain": [
       "8000"
      ]
     },
     "execution_count": 16,
     "metadata": {},
     "output_type": "execute_result"
    }
   ],
   "source": [
    "data_as_string_series.nbytes"
   ]
  },
  {
   "cell_type": "code",
   "execution_count": 17,
   "id": "39aeafd7",
   "metadata": {},
   "outputs": [
    {
     "data": {
      "text/plain": [
       "dtype('O')"
      ]
     },
     "execution_count": 17,
     "metadata": {},
     "output_type": "execute_result"
    }
   ],
   "source": [
    "data_as_string_series.dtype"
   ]
  },
  {
   "cell_type": "code",
   "execution_count": 19,
   "id": "94ad46a1",
   "metadata": {},
   "outputs": [
    {
     "data": {
      "text/plain": [
       "8128"
      ]
     },
     "execution_count": 19,
     "metadata": {},
     "output_type": "execute_result"
    }
   ],
   "source": [
    "data_as_float_series.memory_usage(deep=True)"
   ]
  },
  {
   "cell_type": "code",
   "execution_count": 20,
   "id": "bbfe961e",
   "metadata": {},
   "outputs": [
    {
     "data": {
      "text/plain": [
       "75413"
      ]
     },
     "execution_count": 20,
     "metadata": {},
     "output_type": "execute_result"
    }
   ],
   "source": [
    "data_as_string_series.memory_usage(deep=True)"
   ]
  }
 ],
 "metadata": {
  "kernelspec": {
   "display_name": "Python 3 (ipykernel)",
   "language": "python",
   "name": "python3"
  },
  "language_info": {
   "codemirror_mode": {
    "name": "ipython",
    "version": 3
   },
   "file_extension": ".py",
   "mimetype": "text/x-python",
   "name": "python",
   "nbconvert_exporter": "python",
   "pygments_lexer": "ipython3",
   "version": "3.11.1"
  }
 },
 "nbformat": 4,
 "nbformat_minor": 5
}
