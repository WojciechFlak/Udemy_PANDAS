{
 "cells": [
  {
   "cell_type": "code",
   "execution_count": 1,
   "id": "d76c4a20",
   "metadata": {},
   "outputs": [],
   "source": [
    "import pandas as pd"
   ]
  },
  {
   "cell_type": "code",
   "execution_count": 2,
   "id": "f348569c",
   "metadata": {},
   "outputs": [],
   "source": [
    "countries = pd.read_csv('../Labs files/course-files/countries.csv', usecols=['Symbol','Name'],\n",
    "                        index_col=['Symbol']).squeeze()"
   ]
  },
  {
   "cell_type": "code",
   "execution_count": 3,
   "id": "f0a1c6c2",
   "metadata": {},
   "outputs": [],
   "source": [
    "countries.name = 'Countries'"
   ]
  },
  {
   "cell_type": "code",
   "execution_count": 4,
   "id": "45004429",
   "metadata": {},
   "outputs": [
    {
     "data": {
      "text/plain": [
       "'Albania'"
      ]
     },
     "execution_count": 4,
     "metadata": {},
     "output_type": "execute_result"
    }
   ],
   "source": [
    "countries.iloc[1]"
   ]
  },
  {
   "cell_type": "code",
   "execution_count": 5,
   "id": "10964647",
   "metadata": {},
   "outputs": [],
   "source": [
    "countries1 = pd.read_csv('../Labs files/course-files/countries.csv', on_bad_lines='skip',\n",
    "                         index_col='Symbol').squeeze()"
   ]
  },
  {
   "cell_type": "code",
   "execution_count": 6,
   "id": "dc0ef9d9",
   "metadata": {},
   "outputs": [],
   "source": [
    "countries1.name='Countries1'"
   ]
  },
  {
   "cell_type": "code",
   "execution_count": 7,
   "id": "cd10a58b",
   "metadata": {},
   "outputs": [
    {
     "data": {
      "text/plain": [
       "245"
      ]
     },
     "execution_count": 7,
     "metadata": {},
     "output_type": "execute_result"
    }
   ],
   "source": [
    "countries.size"
   ]
  },
  {
   "cell_type": "code",
   "execution_count": 8,
   "id": "45874934",
   "metadata": {},
   "outputs": [
    {
     "data": {
      "text/plain": [
       "234"
      ]
     },
     "execution_count": 8,
     "metadata": {},
     "output_type": "execute_result"
    }
   ],
   "source": [
    "countries1.size"
   ]
  },
  {
   "cell_type": "code",
   "execution_count": 9,
   "id": "ec5a9541",
   "metadata": {},
   "outputs": [],
   "source": [
    "merged = pd.merge(countries,countries1, right_index=True, left_index=True)"
   ]
  },
  {
   "cell_type": "code",
   "execution_count": 10,
   "id": "1ef48344",
   "metadata": {},
   "outputs": [
    {
     "data": {
      "text/html": [
       "<div>\n",
       "<style scoped>\n",
       "    .dataframe tbody tr th:only-of-type {\n",
       "        vertical-align: middle;\n",
       "    }\n",
       "\n",
       "    .dataframe tbody tr th {\n",
       "        vertical-align: top;\n",
       "    }\n",
       "\n",
       "    .dataframe thead th {\n",
       "        text-align: right;\n",
       "    }\n",
       "</style>\n",
       "<table border=\"1\" class=\"dataframe\">\n",
       "  <thead>\n",
       "    <tr style=\"text-align: right;\">\n",
       "      <th></th>\n",
       "      <th>Countries</th>\n",
       "      <th>Countries1</th>\n",
       "    </tr>\n",
       "    <tr>\n",
       "      <th>Symbol</th>\n",
       "      <th></th>\n",
       "      <th></th>\n",
       "    </tr>\n",
       "  </thead>\n",
       "  <tbody>\n",
       "    <tr>\n",
       "      <th>AD</th>\n",
       "      <td>Andorra</td>\n",
       "      <td>Andorra</td>\n",
       "    </tr>\n",
       "    <tr>\n",
       "      <th>AE</th>\n",
       "      <td>United Arab Emirates</td>\n",
       "      <td>United Arab Emirates</td>\n",
       "    </tr>\n",
       "    <tr>\n",
       "      <th>AF</th>\n",
       "      <td>Afghanistan</td>\n",
       "      <td>Afghanistan</td>\n",
       "    </tr>\n",
       "    <tr>\n",
       "      <th>AG</th>\n",
       "      <td>Antigua and Barbuda</td>\n",
       "      <td>Antigua and Barbuda</td>\n",
       "    </tr>\n",
       "    <tr>\n",
       "      <th>AI</th>\n",
       "      <td>Anguilla</td>\n",
       "      <td>Anguilla</td>\n",
       "    </tr>\n",
       "  </tbody>\n",
       "</table>\n",
       "</div>"
      ],
      "text/plain": [
       "                   Countries            Countries1\n",
       "Symbol                                            \n",
       "AD                   Andorra               Andorra\n",
       "AE      United Arab Emirates  United Arab Emirates\n",
       "AF               Afghanistan           Afghanistan\n",
       "AG       Antigua and Barbuda   Antigua and Barbuda\n",
       "AI                  Anguilla              Anguilla"
      ]
     },
     "execution_count": 10,
     "metadata": {},
     "output_type": "execute_result"
    }
   ],
   "source": [
    "merged.head()"
   ]
  },
  {
   "cell_type": "code",
   "execution_count": 11,
   "id": "9fe503d7",
   "metadata": {},
   "outputs": [],
   "source": [
    "l = list(countries)\n",
    "l1 = list(countries1)"
   ]
  },
  {
   "cell_type": "code",
   "execution_count": 12,
   "id": "e3d16471",
   "metadata": {},
   "outputs": [
    {
     "data": {
      "text/plain": [
       "{'Bonaire',\n",
       " 'Iran',\n",
       " 'Korea',\n",
       " 'Lao',\n",
       " 'Macedonia',\n",
       " 'Micronesia',\n",
       " 'Moldova',\n",
       " 'Palestinian Territory',\n",
       " 'Taiwan',\n",
       " 'Tanzania'}"
      ]
     },
     "execution_count": 12,
     "metadata": {},
     "output_type": "execute_result"
    }
   ],
   "source": [
    "set(l) - set(l).intersection(l1)"
   ]
  },
  {
   "cell_type": "code",
   "execution_count": 13,
   "id": "8ed45791",
   "metadata": {},
   "outputs": [],
   "source": [
    "difference = []\n",
    "for c in countries.values:\n",
    "    if c not in countries1.values:\n",
    "            difference.append(c)"
   ]
  },
  {
   "cell_type": "code",
   "execution_count": 14,
   "id": "c737de74",
   "metadata": {},
   "outputs": [
    {
     "data": {
      "text/plain": [
       "['Bonaire',\n",
       " nan,\n",
       " 'Iran',\n",
       " 'Korea',\n",
       " 'Lao',\n",
       " 'Macedonia',\n",
       " 'Micronesia',\n",
       " 'Moldova',\n",
       " nan,\n",
       " 'Palestinian Territory',\n",
       " 'Korea',\n",
       " nan,\n",
       " 'Taiwan',\n",
       " 'Tanzania']"
      ]
     },
     "execution_count": 14,
     "metadata": {},
     "output_type": "execute_result"
    }
   ],
   "source": [
    "difference"
   ]
  },
  {
   "cell_type": "code",
   "execution_count": 15,
   "id": "50476516",
   "metadata": {},
   "outputs": [],
   "source": [
    "difference1 = []\n",
    "for c in countries1.values:\n",
    "    if c not in countries.values:\n",
    "            difference1.append(c)"
   ]
  },
  {
   "cell_type": "code",
   "execution_count": 16,
   "id": "7b13799c",
   "metadata": {},
   "outputs": [
    {
     "data": {
      "text/plain": [
       "[nan, nan, nan]"
      ]
     },
     "execution_count": 16,
     "metadata": {},
     "output_type": "execute_result"
    }
   ],
   "source": [
    "difference1"
   ]
  },
  {
   "cell_type": "code",
   "execution_count": 17,
   "id": "190137cf",
   "metadata": {},
   "outputs": [
    {
     "data": {
      "text/plain": [
       "Symbol\n",
       "AF            Afghanistan\n",
       "AL                Albania\n",
       "DZ                Algeria\n",
       "AD                Andorra\n",
       "AO                 Angola\n",
       "AI               Anguilla\n",
       "AQ             Antarctica\n",
       "AG    Antigua and Barbuda\n",
       "SA           Saudi Arabia\n",
       "AR              Argentina\n",
       "AM                Armenia\n",
       "AW                  Aruba\n",
       "AU              Australia\n",
       "AT                Austria\n",
       "AZ             Azerbaijan\n",
       "BS                Bahamas\n",
       "BH                Bahrain\n",
       "BD             Bangladesh\n",
       "BB               Barbados\n",
       "BE                Belgium\n",
       "Name: Countries, dtype: object"
      ]
     },
     "execution_count": 17,
     "metadata": {},
     "output_type": "execute_result"
    }
   ],
   "source": [
    "countries.head(20)"
   ]
  },
  {
   "cell_type": "code",
   "execution_count": 18,
   "id": "3fdcaef0",
   "metadata": {},
   "outputs": [
    {
     "data": {
      "text/plain": [
       "'France'"
      ]
     },
     "execution_count": 18,
     "metadata": {},
     "output_type": "execute_result"
    }
   ],
   "source": [
    "countries.at['FR']"
   ]
  },
  {
   "cell_type": "code",
   "execution_count": 19,
   "id": "47ec73a5",
   "metadata": {},
   "outputs": [
    {
     "data": {
      "text/plain": [
       "'France'"
      ]
     },
     "execution_count": 19,
     "metadata": {},
     "output_type": "execute_result"
    }
   ],
   "source": [
    "countries.loc['FR']"
   ]
  },
  {
   "cell_type": "code",
   "execution_count": 20,
   "id": "55a188f6",
   "metadata": {},
   "outputs": [
    {
     "data": {
      "text/plain": [
       "'Austria'"
      ]
     },
     "execution_count": 20,
     "metadata": {},
     "output_type": "execute_result"
    }
   ],
   "source": [
    "countries.iat[13]"
   ]
  },
  {
   "cell_type": "code",
   "execution_count": 21,
   "id": "33166246",
   "metadata": {},
   "outputs": [
    {
     "data": {
      "text/plain": [
       "'Austria'"
      ]
     },
     "execution_count": 21,
     "metadata": {},
     "output_type": "execute_result"
    }
   ],
   "source": [
    "countries.iloc[13]"
   ]
  },
  {
   "cell_type": "code",
   "execution_count": 38,
   "id": "0866f6c1",
   "metadata": {},
   "outputs": [],
   "source": [
    "nordic =[]\n",
    "for i in list(countries.loc[['SE', 'FI','NO']]):\n",
    "    nordic.append(i)"
   ]
  },
  {
   "cell_type": "code",
   "execution_count": 39,
   "id": "640f7855",
   "metadata": {},
   "outputs": [
    {
     "data": {
      "text/plain": [
       "['Sweden', 'Finland', 'Norway']"
      ]
     },
     "execution_count": 39,
     "metadata": {},
     "output_type": "execute_result"
    }
   ],
   "source": [
    "nordic"
   ]
  },
  {
   "cell_type": "code",
   "execution_count": 40,
   "id": "d0ad8805",
   "metadata": {},
   "outputs": [],
   "source": [
    "nordic_series = pd.Series(nordic)"
   ]
  },
  {
   "cell_type": "code",
   "execution_count": 55,
   "id": "1d850f69",
   "metadata": {},
   "outputs": [
    {
     "data": {
      "text/plain": [
       "0     Sweden\n",
       "1    Finland\n",
       "2     Norway\n",
       "dtype: object"
      ]
     },
     "execution_count": 55,
     "metadata": {},
     "output_type": "execute_result"
    }
   ],
   "source": [
    "nordic_series.iloc[:]"
   ]
  },
  {
   "cell_type": "code",
   "execution_count": 51,
   "id": "3e684d6f",
   "metadata": {},
   "outputs": [
    {
     "data": {
      "text/plain": [
       "'Sweden'"
      ]
     },
     "execution_count": 51,
     "metadata": {},
     "output_type": "execute_result"
    }
   ],
   "source": [
    "nordic_series.get(0)"
   ]
  },
  {
   "cell_type": "code",
   "execution_count": 57,
   "id": "114c0d83",
   "metadata": {},
   "outputs": [
    {
     "data": {
      "text/plain": [
       "Symbol\n",
       "SE     Sweden\n",
       "FI    Finland\n",
       "NO     Norway\n",
       "Name: Countries, dtype: object"
      ]
     },
     "execution_count": 57,
     "metadata": {},
     "output_type": "execute_result"
    }
   ],
   "source": [
    "nor = ['SE', 'FI','NO']\n",
    "countries.loc[nor]"
   ]
  },
  {
   "cell_type": "code",
   "execution_count": null,
   "id": "e8dad452",
   "metadata": {},
   "outputs": [],
   "source": []
  },
  {
   "cell_type": "code",
   "execution_count": null,
   "id": "060ccc99",
   "metadata": {},
   "outputs": [],
   "source": []
  }
 ],
 "metadata": {
  "kernelspec": {
   "display_name": "Python 3 (ipykernel)",
   "language": "python",
   "name": "python3"
  },
  "language_info": {
   "codemirror_mode": {
    "name": "ipython",
    "version": 3
   },
   "file_extension": ".py",
   "mimetype": "text/x-python",
   "name": "python",
   "nbconvert_exporter": "python",
   "pygments_lexer": "ipython3",
   "version": "3.11.1"
  }
 },
 "nbformat": 4,
 "nbformat_minor": 5
}
